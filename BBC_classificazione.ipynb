{
  "cells": [
    {
      "cell_type": "markdown",
      "metadata": {
        "id": "view-in-github",
        "colab_type": "text"
      },
      "source": [
        "<a href=\"https://colab.research.google.com/github/schipagi/Mastering-Blockchain-Programming-with-Solidity/blob/master/BBC_classificazione.ipynb\" target=\"_parent\"><img src=\"https://colab.research.google.com/assets/colab-badge.svg\" alt=\"Open In Colab\"/></a>"
      ]
    },
    {
      "cell_type": "markdown",
      "source": [
        "\n",
        "Progetto svolto da **Giuseppe Schipani**\n",
        "\n",
        "**Classificazione di articoli della BBC di notizie su Cina e India**\n",
        "\n",
        "**Descrizione del progetto**\\\n",
        "In questo progetto, l'obiettivo principale è stato quello di classificare automaticamente gli articoli di notizie in base al loro contenuto, concentrandosi su due categorie: Cina e India.\n",
        "\n",
        "\n",
        "**Raccolta dei dati**\\\n",
        "Il primo passo è stato quello di raccogliere un ampio set di articoli di notizie dalla cronologia di notizie della BBC usando wayback machine.\\\n",
        "Per fare ciò, è stato utilizzato lo scraping web per estrarre il testo degli articoli dalle pagine web archiviate. A causa delle differenze nei tag HTML, sono state utilizzate inizialmente due funzioni di estrazione del testo per adattarsi ai diversi formati. In seguito queste due funzioni sono state unite in modo da avere una singola funzione.\n",
        "\n",
        "**Preparazione dei dati**\\\n",
        "Una volta raccolti gli articoli, i dati sono stati suddivisi in tre set: training set (60%), validation set (20%)  e test set (20%). Questi dati sono stati salvati in file pkl e in seguito sono stati utilizzati per addestrare e valutare il modello di classificazione.\n",
        "\n",
        "**Creazione del modelli**\\\n",
        "Il progetto ha implementato e confrontato quattro diversi metodi di classificazione:\n",
        "\n",
        "1) Baseline: conteggio delle parole chiave (Cina e India) in ciascun articolo per determinare la categoria.Questo modello è il punto base di partenza.\\\n",
        "2) Logistic Regression\\\n",
        "3) MultinomialNB: utilizzo di un classificatore Naïve Bayes Multinomiale basato su conteggio parole.\\\n",
        "4) BERT completo: addestramento di un modello BERT pre-addestrato per la classificazione degli articoli.\n",
        "\n",
        "**Valutazione dei modelli**\\\n",
        "Ogni modello è stato valutato utilizzando metriche come precision, recall, f1-score e accuracy sul test set. I risultati ottenuti sono stati confrontati per determinare il metodo migliore per la classificazione degli articoli di notizie. Il metodo migliore, che ha ottenuto risultati perfetti è stato Bert, ma non di molto, perchè anche MultinomialNB ha avuto risultati perfetti (1 solo errore).\n",
        "\n",
        "**Conclusione**\\\n",
        "Questo progetto ha dimostrato l'efficacia dei moderni metodi di apprendimento automatico e del deep learning, come BERT, nella classificazione di testi. L'analisi dei risultati ottenuti può aiutare a identificare le aree di miglioramento e a guidare futuri sviluppi in questo campo."
      ],
      "metadata": {
        "collapsed": false,
        "id": "53d3GQLt6zwa"
      }
    },
    {
      "cell_type": "code",
      "execution_count": null,
      "outputs": [],
      "source": [
        "# Importo i files pickel e definisco la funzione per aprire un file\n",
        "import pickle\n",
        "def load (file):\n",
        "  return pickle.load( open(file, \"rb\" ) )"
      ],
      "metadata": {
        "id": "TBLK7E7eZdqS"
      }
    },
    {
      "cell_type": "code",
      "execution_count": null,
      "outputs": [
        {
          "output_type": "stream",
          "name": "stdout",
          "text": [
            "Mounted at /content/drive\n"
          ]
        }
      ],
      "source": [
        "# importo google drive e monto la memoria\n",
        "from google.colab import drive\n",
        "drive.mount('/content/drive')\n",
        "\n",
        "# carico i dati dai files che ho creato da un altro notebook e salvato nel drive\n",
        "training_set = load(\"/content/drive/My Drive/pkl BBC/training_set2.pkl\")\n",
        "validation_set = load(\"/content/drive/My Drive/pkl BBC/validation_set2.pkl\")\n",
        "test_set = load(\"/content/drive/My Drive/pkl BBC/test_set2.pkl\")"
      ],
      "metadata": {
        "colab": {
          "base_uri": "https://localhost:8080/"
        },
        "id": "fk3p24OqZdqT",
        "outputId": "e5db05a4-f8de-4ded-819c-efeb451276de"
      }
    },
    {
      "cell_type": "code",
      "execution_count": null,
      "outputs": [
        {
          "output_type": "execute_result",
          "data": {
            "text/plain": [
              "<bound method NDFrame.tail of                                                   text  label\n",
              "0    Deepika Padukone: Has Bollywood found a politi...  india\n",
              "1    Does JNU campus attack mean India is failing i...  india\n",
              "2    Kunal Kamra: Airline ban on India comedian spa...  india\n",
              "3    Delhi election: Arvind Kejriwal and AAP surge ...  india\n",
              "4    An 'unhappy marriage' that has saved thousands...  india\n",
              "..                                                 ...    ...\n",
              "303  Coronavirus: New China figures highlight toll ...  china\n",
              "304  Coronavirus: Can people recover? And other que...  china\n",
              "305  New China virus: Your questions answered. Over...  china\n",
              "306  Coronavirus: Largest study suggests elderly an...  china\n",
              "307  Coronavirus Wuhan diary: 'He got a hospital be...  china\n",
              "\n",
              "[308 rows x 2 columns]>"
            ]
          },
          "metadata": {},
          "execution_count": 4
        }
      ],
      "source": [
        "validation_set.tail "
      ],
      "metadata": {
        "colab": {
          "base_uri": "https://localhost:8080/"
        },
        "id": "2ZOMopDIZdqU",
        "outputId": "836b6492-2156-4184-d258-fbf2473660d2"
      }
    },
    {
      "cell_type": "code",
      "execution_count": null,
      "outputs": [
        {
          "output_type": "stream",
          "name": "stdout",
          "text": [
            "Looking in indexes: https://pypi.org/simple, https://us-python.pkg.dev/colab-wheels/public/simple/\n",
            "Collecting datasets\n",
            "  Downloading datasets-2.12.0-py3-none-any.whl (474 kB)\n",
            "\u001b[2K     \u001b[90m━━━━━━━━━━━━━━━━━━━━━━━━━━━━━━━━━━━━━━\u001b[0m \u001b[32m474.6/474.6 kB\u001b[0m \u001b[31m10.0 MB/s\u001b[0m eta \u001b[36m0:00:00\u001b[0m\n",
            "\u001b[?25hCollecting aiohttp\n",
            "  Downloading aiohttp-3.8.4-cp310-cp310-manylinux_2_17_x86_64.manylinux2014_x86_64.whl (1.0 MB)\n",
            "\u001b[2K     \u001b[90m━━━━━━━━━━━━━━━━━━━━━━━━━━━━━━━━━━━━━━━━\u001b[0m \u001b[32m1.0/1.0 MB\u001b[0m \u001b[31m46.4 MB/s\u001b[0m eta \u001b[36m0:00:00\u001b[0m\n",
            "\u001b[?25hRequirement already satisfied: numpy>=1.17 in /usr/local/lib/python3.10/dist-packages (from datasets) (1.22.4)\n",
            "Collecting huggingface-hub<1.0.0,>=0.11.0\n",
            "  Downloading huggingface_hub-0.14.1-py3-none-any.whl (224 kB)\n",
            "\u001b[2K     \u001b[90m━━━━━━━━━━━━━━━━━━━━━━━━━━━━━━━━━━━━━━\u001b[0m \u001b[32m224.5/224.5 kB\u001b[0m \u001b[31m25.8 MB/s\u001b[0m eta \u001b[36m0:00:00\u001b[0m\n",
            "\u001b[?25hCollecting responses<0.19\n",
            "  Downloading responses-0.18.0-py3-none-any.whl (38 kB)\n",
            "Requirement already satisfied: pandas in /usr/local/lib/python3.10/dist-packages (from datasets) (1.5.3)\n",
            "Requirement already satisfied: tqdm>=4.62.1 in /usr/local/lib/python3.10/dist-packages (from datasets) (4.65.0)\n",
            "Collecting xxhash\n",
            "  Downloading xxhash-3.2.0-cp310-cp310-manylinux_2_17_x86_64.manylinux2014_x86_64.whl (212 kB)\n",
            "\u001b[2K     \u001b[90m━━━━━━━━━━━━━━━━━━━━━━━━━━━━━━━━━━━━━━\u001b[0m \u001b[32m212.5/212.5 kB\u001b[0m \u001b[31m24.9 MB/s\u001b[0m eta \u001b[36m0:00:00\u001b[0m\n",
            "\u001b[?25hRequirement already satisfied: requests>=2.19.0 in /usr/local/lib/python3.10/dist-packages (from datasets) (2.27.1)\n",
            "Requirement already satisfied: pyyaml>=5.1 in /usr/local/lib/python3.10/dist-packages (from datasets) (6.0)\n",
            "Requirement already satisfied: pyarrow>=8.0.0 in /usr/local/lib/python3.10/dist-packages (from datasets) (9.0.0)\n",
            "Collecting dill<0.3.7,>=0.3.0\n",
            "  Downloading dill-0.3.6-py3-none-any.whl (110 kB)\n",
            "\u001b[2K     \u001b[90m━━━━━━━━━━━━━━━━━━━━━━━━━━━━━━━━━━━━━━\u001b[0m \u001b[32m110.5/110.5 kB\u001b[0m \u001b[31m15.5 MB/s\u001b[0m eta \u001b[36m0:00:00\u001b[0m\n",
            "\u001b[?25hRequirement already satisfied: packaging in /usr/local/lib/python3.10/dist-packages (from datasets) (23.1)\n",
            "Collecting multiprocess\n",
            "  Downloading multiprocess-0.70.14-py310-none-any.whl (134 kB)\n",
            "\u001b[2K     \u001b[90m━━━━━━━━━━━━━━━━━━━━━━━━━━━━━━━━━━━━━━\u001b[0m \u001b[32m134.3/134.3 kB\u001b[0m \u001b[31m19.2 MB/s\u001b[0m eta \u001b[36m0:00:00\u001b[0m\n",
            "\u001b[?25hRequirement already satisfied: fsspec[http]>=2021.11.1 in /usr/local/lib/python3.10/dist-packages (from datasets) (2023.4.0)\n",
            "Requirement already satisfied: attrs>=17.3.0 in /usr/local/lib/python3.10/dist-packages (from aiohttp->datasets) (23.1.0)\n",
            "Collecting multidict<7.0,>=4.5\n",
            "  Downloading multidict-6.0.4-cp310-cp310-manylinux_2_17_x86_64.manylinux2014_x86_64.whl (114 kB)\n",
            "\u001b[2K     \u001b[90m━━━━━━━━━━━━━━━━━━━━━━━━━━━━━━━━━━━━━━\u001b[0m \u001b[32m114.5/114.5 kB\u001b[0m \u001b[31m15.4 MB/s\u001b[0m eta \u001b[36m0:00:00\u001b[0m\n",
            "\u001b[?25hCollecting yarl<2.0,>=1.0\n",
            "  Downloading yarl-1.9.2-cp310-cp310-manylinux_2_17_x86_64.manylinux2014_x86_64.whl (268 kB)\n",
            "\u001b[2K     \u001b[90m━━━━━━━━━━━━━━━━━━━━━━━━━━━━━━━━━━━━━━\u001b[0m \u001b[32m268.8/268.8 kB\u001b[0m \u001b[31m28.1 MB/s\u001b[0m eta \u001b[36m0:00:00\u001b[0m\n",
            "\u001b[?25hCollecting async-timeout<5.0,>=4.0.0a3\n",
            "  Downloading async_timeout-4.0.2-py3-none-any.whl (5.8 kB)\n",
            "Requirement already satisfied: charset-normalizer<4.0,>=2.0 in /usr/local/lib/python3.10/dist-packages (from aiohttp->datasets) (2.0.12)\n",
            "Collecting aiosignal>=1.1.2\n",
            "  Downloading aiosignal-1.3.1-py3-none-any.whl (7.6 kB)\n",
            "Collecting frozenlist>=1.1.1\n",
            "  Downloading frozenlist-1.3.3-cp310-cp310-manylinux_2_5_x86_64.manylinux1_x86_64.manylinux_2_17_x86_64.manylinux2014_x86_64.whl (149 kB)\n",
            "\u001b[2K     \u001b[90m━━━━━━━━━━━━━━━━━━━━━━━━━━━━━━━━━━━━━━\u001b[0m \u001b[32m149.6/149.6 kB\u001b[0m \u001b[31m17.6 MB/s\u001b[0m eta \u001b[36m0:00:00\u001b[0m\n",
            "\u001b[?25hRequirement already satisfied: typing-extensions>=3.7.4.3 in /usr/local/lib/python3.10/dist-packages (from huggingface-hub<1.0.0,>=0.11.0->datasets) (4.5.0)\n",
            "Requirement already satisfied: filelock in /usr/local/lib/python3.10/dist-packages (from huggingface-hub<1.0.0,>=0.11.0->datasets) (3.12.0)\n",
            "Requirement already satisfied: certifi>=2017.4.17 in /usr/local/lib/python3.10/dist-packages (from requests>=2.19.0->datasets) (2022.12.7)\n",
            "Requirement already satisfied: urllib3<1.27,>=1.21.1 in /usr/local/lib/python3.10/dist-packages (from requests>=2.19.0->datasets) (1.26.15)\n",
            "Requirement already satisfied: idna<4,>=2.5 in /usr/local/lib/python3.10/dist-packages (from requests>=2.19.0->datasets) (3.4)\n",
            "Requirement already satisfied: pytz>=2020.1 in /usr/local/lib/python3.10/dist-packages (from pandas->datasets) (2022.7.1)\n",
            "Requirement already satisfied: python-dateutil>=2.8.1 in /usr/local/lib/python3.10/dist-packages (from pandas->datasets) (2.8.2)\n",
            "Requirement already satisfied: six>=1.5 in /usr/local/lib/python3.10/dist-packages (from python-dateutil>=2.8.1->pandas->datasets) (1.16.0)\n",
            "Installing collected packages: xxhash, multidict, frozenlist, dill, async-timeout, yarl, responses, multiprocess, huggingface-hub, aiosignal, aiohttp, datasets\n",
            "Successfully installed aiohttp-3.8.4 aiosignal-1.3.1 async-timeout-4.0.2 datasets-2.12.0 dill-0.3.6 frozenlist-1.3.3 huggingface-hub-0.14.1 multidict-6.0.4 multiprocess-0.70.14 responses-0.18.0 xxhash-3.2.0 yarl-1.9.2\n"
          ]
        },
        {
          "output_type": "execute_result",
          "data": {
            "text/plain": [
              "{'text': 'India election 2019: The mystery of 21 million \\'missing\\' women voters. Indian women got the right to vote the year their country was born. It was, as a historian said, a \"staggering achievement for a post-colonial nation\". But more than 70 years later, why are 21 million women in India apparently being denied the right to vote?It is one of India\\'s many social riddles.Women have been enthusiastic voters in India: voter turnout among women will be higher in this year\\'s general election than that of men. Most women say they are voting independently, without consulting their spouses and families.To make them secure, there are separate queues for women at polling stations and female police officers guarding them. Polling stations contain at least one female officer.More than 660 women candidates contested the 2014 elections, up from 24 in the first election in 1951. And political parties now target women as a separate constituency, offering them cheap cooking gas, scholarships for studies and bicycles to go to college.Yet, a truly astonishing number of women - equal to the population of Sri Lanka - appear to be \"missing\" from India\\'s voters lists.In their upcoming book, The Verdict: Decoding India\\'s Elections, poll experts Prannoy Roy and Dorab Sopariwala find that the available data on women points to this.They looked at the number of women above the age of 18 in the census, extrapolated it, and compared it to the number of women in the latest list of voters. And they found a sizeable \"shortfall\" - 21 million to be exact - in the number of female voters.Three states - Uttar Pradesh, Maharashtra and Rajasthan - accounted for more than half of the missing female voters. Southern states such as Andhra Pradesh and Tamil Nadu fare better.What does this mean?More than 20 million missing women, analysts say, translates into 38,000 missing women voters on average in every constituency in India. In places like Uttar Pradesh, India\\'s most populous and a key bellwether state, the figure swells to 80,000 missing women in every seat.Given that more than one in every five seats are won or lost by a margin of fewer than 38,000 votes, the missing women could swing the results in many seats. The absence of a large number of women also means that India\\'s electorate would be higher than the 900 million people who are eligible to vote in the summer elections. If the sex ratio in a constituency is skewed against women and the average voter is male, the preferences of female voters are likely to be ignored.\"Women want to vote, but they are not allowed to vote. This is deeply worrying. It also raises a lot of questions. We know that there are some social reasons behind this problem. But we also know that by controlling turnouts you can control results. Is that one of the reasons? We really need to investigate further to get to the truth,\" Prannoy Roy told me.With a sex ratio that is skewed in favour of men, India has had a problem of missing women for a long time.Last year, a government report found that 63 million women were \"missing\" from India\\'s population because the preference for sons led to sex-selective abortions and more care was given to boys. Separately, economists Shamika Ravi and Mudit Kapoor estimated that more than 65 million women - some 20% of the female electorate - were missing. This included women who were not registered to vote and women \"who were not in the population because of gross neglect\" (worsening sex ratio, which reflected the gross neglect). So elections, they said, were \"revealing the preferences or the will of a population that is artificially skewed against women\".It\\'s not that election authorities haven\\'t worked hard to get more women to vote.The Election Commission adopts a rigorous statistical method - gender ratios, elector-population ratios and ages of voters - to make sure that eligible voters are not left out. There is doorstep verification of voters and a substantial number of officials involved in this exercise are women. In villages, child welfare workers and women\\'s self-help groups are roped in. State-run TV and radio programmes motivate women to register. There are even polling stations dedicated exclusively to women.So why are so many women still missing from the rolls? Is it because many women shift residence after marriage and fail to register anew? (Less than 3% of Indian women aged 30-34 are single.) Is it because families still refuse to provide photographs of women to officials to publish in voters lists? Or does this exclusion have something to do with the \"dark arts of voter suppression\"?\"There is some social resistance, but it doesn\\'t explain such large scale exclusion,\" says Dr Roy.People who have helped organise elections in India say there is no reason to panic. Former election commissioner SY Quraishi told me that the enrolment of women had gone up steadily over the years. \"There is social resistance to enrolling women still,\" he says.\"I have heard of parents not registering their daughter because they don\\'t want to reveal her age, because they feel it will end up hurting their prospects for marriage. We have also been sometimes indifferent in our outreach to rope in more women voters,\" he said.With the 2019 elections barely a month away, there\\'s no time to fix this problem. Dr Roy believes there\\'s only one way out - to let women vote even if they are not registered.\"Any woman who comes to a polling station and wants to cast her vote, and can prove she is 18 years old, must be allowed to vote,\" he says.',\n",
              " 'label': 'india'}"
            ]
          },
          "metadata": {},
          "execution_count": 6
        }
      ],
      "source": [
        "!pip install datasets\n",
        "from datasets import Dataset\n",
        "\n",
        "# Converto il dataframe in un oggetto Dataset\n",
        "training_set = Dataset.from_pandas(training_set)\n",
        "validation_set = Dataset.from_pandas(validation_set)\n",
        "test_set = Dataset.from_pandas(test_set)\n",
        "\n",
        "training_set\n",
        "training_set[0]"
      ],
      "metadata": {
        "colab": {
          "base_uri": "https://localhost:8080/"
        },
        "id": "vQ3WEaD8ZdqU",
        "outputId": "bc67ca26-05a2-495c-c328-abecf63a49ee"
      }
    },
    {
      "cell_type": "code",
      "execution_count": null,
      "outputs": [],
      "source": [
        "# Estraggo i dati di testo e le etichette dai dataset\n",
        "\n",
        "training_data = [item['text'] for item in training_set]\n",
        "training_labels = [item['label'] for item in training_set]\n",
        "\n",
        "validation_data = [item['text'] for item in validation_set]\n",
        "validation_labels = [item['label'] for item in validation_set]\n",
        "\n",
        "test_data = [item['text'] for item in test_set]\n",
        "test_labels = [item['label'] for item in test_set]"
      ],
      "metadata": {
        "id": "txzHPX_DZdqV"
      }
    },
    {
      "cell_type": "markdown",
      "source": [
        "Baseline model:"
      ],
      "metadata": {
        "collapsed": false,
        "id": "z8HOvC2PZdqV"
      }
    },
    {
      "cell_type": "code",
      "execution_count": null,
      "outputs": [
        {
          "output_type": "stream",
          "name": "stdout",
          "text": [
            "Looking in indexes: https://pypi.org/simple, https://us-python.pkg.dev/colab-wheels/public/simple/\n",
            "Requirement already satisfied: sklearn in /usr/local/lib/python3.10/dist-packages (0.0.post4)\n",
            "Looking in indexes: https://pypi.org/simple, https://us-python.pkg.dev/colab-wheels/public/simple/\n",
            "Requirement already satisfied: nltk in /usr/local/lib/python3.10/dist-packages (3.8.1)\n",
            "Requirement already satisfied: joblib in /usr/local/lib/python3.10/dist-packages (from nltk) (1.2.0)\n",
            "Requirement already satisfied: tqdm in /usr/local/lib/python3.10/dist-packages (from nltk) (4.65.0)\n",
            "Requirement already satisfied: click in /usr/local/lib/python3.10/dist-packages (from nltk) (8.1.3)\n",
            "Requirement already satisfied: regex>=2021.8.3 in /usr/local/lib/python3.10/dist-packages (from nltk) (2022.10.31)\n"
          ]
        },
        {
          "output_type": "stream",
          "name": "stderr",
          "text": [
            "[nltk_data] Downloading package punkt to /root/nltk_data...\n",
            "[nltk_data]   Unzipping tokenizers/punkt.zip.\n"
          ]
        },
        {
          "output_type": "stream",
          "name": "stdout",
          "text": [
            "              precision    recall  f1-score   support\n",
            "\n",
            "       china       0.92      1.00      0.96       122\n",
            "       india       1.00      0.96      0.98       267\n",
            "\n",
            "    accuracy                           0.97       389\n",
            "   macro avg       0.96      0.98      0.97       389\n",
            "weighted avg       0.98      0.97      0.97       389\n",
            "\n"
          ]
        }
      ],
      "source": [
        "!pip install sklearn\n",
        "!pip install nltk\n",
        "\n",
        "import nltk\n",
        "nltk.download('punkt')\n",
        "\n",
        "from nltk.tokenize import word_tokenize\n",
        "from sklearn.metrics import classification_report\n",
        "\n",
        "baseLinePrediction = []\n",
        "\n",
        "# per ciascun articolo del test set, suddivide il testo in token utilizzando la funzione word_tokenize\n",
        "for x in list(test_set['text']):\n",
        "    tokens = word_tokenize(x)\n",
        "    china = sum([1 for token in tokens if token.lower() == 'china'])\n",
        "    india = sum([1 for token in tokens if token.lower() == 'india'])\n",
        "\n",
        "    if india > china:\n",
        "       baseLinePrediction.append('india')\n",
        "    else:\n",
        "       baseLinePrediction.append('china')\n",
        "\n",
        "target_names = ['china', 'india']\n",
        "print(classification_report(test_labels, baseLinePrediction, target_names=target_names))\n",
        "\n",
        "# Come si puo notare, già la baseline ha un ottimo risultato!!!! Ma cerchiamo di vedere se altri classificatori portano a risultati migliori..."
      ],
      "metadata": {
        "colab": {
          "base_uri": "https://localhost:8080/"
        },
        "id": "71PG8XKdZdqV",
        "outputId": "7eb1cc57-cfd9-4c56-cfd9-09f8bad7c28c"
      }
    },
    {
      "cell_type": "code",
      "execution_count": null,
      "outputs": [
        {
          "output_type": "display_data",
          "data": {
            "text/plain": [
              "<Figure size 640x480 with 2 Axes>"
            ],
            "image/png": "[encoded data removed]"
          },
          "metadata": {}
        }
      ],
      "source": [
        "from sklearn.metrics import confusion_matrix\n",
        "import matplotlib.pyplot as plt\n",
        "import seaborn as sns\n",
        "\n",
        "# Matrice di confusione\n",
        "cm = confusion_matrix(test_labels, baseLinePrediction)\n",
        "\n",
        "# Plot della matrice di confusione\n",
        "sns.set(font_scale=1.4) # Imposta la scala del font per renderlo più leggibile\n",
        "sns.heatmap(cm, annot=True, annot_kws={\"size\": 16}, fmt='d', cmap='Blues', xticklabels=target_names, yticklabels=target_names)\n",
        "plt.xlabel('Predicted')\n",
        "plt.ylabel('True')\n",
        "plt.show()"
      ],
      "metadata": {
        "colab": {
          "base_uri": "https://localhost:8080/",
          "height": 468
        },
        "id": "scPbDXSJZdqW",
        "outputId": "35d8e3dc-ee40-4db0-cfc7-9faa439740d4"
      }
    },
    {
      "cell_type": "markdown",
      "source": [
        "LOGISTIC REGRESSION:"
      ],
      "metadata": {
        "collapsed": false,
        "id": "oEjEsuwuZdqW"
      }
    },
    {
      "cell_type": "code",
      "execution_count": null,
      "outputs": [],
      "source": [
        "# Conversione dei testi in features (TF-IDF)\n",
        "from sklearn.feature_extraction.text import TfidfVectorizer\n",
        "from sklearn.linear_model import LogisticRegression\n",
        "from sklearn.metrics import classification_report\n",
        "\n",
        "vectorizer = TfidfVectorizer()\n",
        "training_features = vectorizer.fit_transform(training_data)\n",
        "test_features = vectorizer.transform(test_data)"
      ],
      "metadata": {
        "id": "6mlfTEIxZdqW"
      }
    },
    {
      "cell_type": "markdown",
      "source": [
        "Logistic Regression:"
      ],
      "metadata": {
        "collapsed": false,
        "id": "BuXLuePqZdqX"
      }
    },
    {
      "cell_type": "code",
      "execution_count": null,
      "outputs": [
        {
          "output_type": "stream",
          "name": "stdout",
          "text": [
            "              precision    recall  f1-score   support\n",
            "\n",
            "       china       1.00      0.77      0.87       122\n",
            "       india       0.91      1.00      0.95       267\n",
            "\n",
            "    accuracy                           0.93       389\n",
            "   macro avg       0.95      0.89      0.91       389\n",
            "weighted avg       0.93      0.93      0.93       389\n",
            "\n"
          ]
        }
      ],
      "source": [
        "# Training\n",
        "classifier = LogisticRegression()\n",
        "classifier.fit(training_features, training_labels)\n",
        "\n",
        "# Test\n",
        "predictions = classifier.predict(test_features)\n",
        "\n",
        "target_names = ['china', 'india']\n",
        "print(classification_report(test_labels, predictions, labels = [\"china\", \"india\"], target_names=target_names))\n",
        "\n",
        "# in qesto caso (abbastanza particolare) possiamo osservare che Logistic Regression funziona peggio di baseline"
      ],
      "metadata": {
        "colab": {
          "base_uri": "https://localhost:8080/"
        },
        "id": "8ZkcYIA4ZdqX",
        "outputId": "a5d01efd-5cb9-4240-ff69-f55baa37f252"
      }
    },
    {
      "cell_type": "code",
      "execution_count": null,
      "outputs": [
        {
          "output_type": "display_data",
          "data": {
            "text/plain": [
              "<Figure size 640x480 with 2 Axes>"
            ],
            "image/png": "[encoded data removed]"
          },
          "metadata": {}
        }
      ],
      "source": [
        "# Matrice di confusione\n",
        "cm = confusion_matrix(test_labels, predictions)\n",
        "\n",
        "# Plot della matrice di confusione\n",
        "sns.set(font_scale=1.4) # Imposta la scala del font per renderlo più leggibile\n",
        "sns.heatmap(cm, annot=True, annot_kws={\"size\": 16}, fmt='d', cmap='Blues', xticklabels=target_names, yticklabels=target_names)\n",
        "plt.xlabel('Predicted')\n",
        "plt.ylabel('True')\n",
        "plt.show()"
      ],
      "metadata": {
        "colab": {
          "base_uri": "https://localhost:8080/",
          "height": 468
        },
        "id": "kVrzMwTfZdqX",
        "outputId": "a6f44984-d511-4256-d75b-3c9d065f1a5a"
      }
    },
    {
      "cell_type": "markdown",
      "source": [
        "Logistic Regression classifier con normalizzazione dei dati:"
      ],
      "metadata": {
        "collapsed": false,
        "id": "qfo3MM89ZdqX"
      }
    },
    {
      "cell_type": "code",
      "execution_count": null,
      "outputs": [
        {
          "output_type": "stream",
          "name": "stdout",
          "text": [
            "              precision    recall  f1-score   support\n",
            "\n",
            "       china       1.00      0.77      0.87       122\n",
            "       india       0.91      1.00      0.95       267\n",
            "\n",
            "    accuracy                           0.93       389\n",
            "   macro avg       0.95      0.89      0.91       389\n",
            "weighted avg       0.93      0.93      0.93       389\n",
            "\n"
          ]
        }
      ],
      "source": [
        "from sklearn.linear_model import LogisticRegression\n",
        "from sklearn.preprocessing import MaxAbsScaler\n",
        "from sklearn.pipeline import make_pipeline\n",
        "\n",
        "# Normalizzazione dei dati (MaxAbsScalar)\n",
        "# Classificatore di Regressione Logistica (LogisticRegression())\n",
        "pipeline = make_pipeline(MaxAbsScaler(), LogisticRegression())\n",
        "\n",
        "# Training\n",
        "pipeline.fit(training_features, training_labels)\n",
        "\n",
        "# Test\n",
        "predictions = pipeline.predict(test_features)\n",
        "\n",
        "target_names = ['china', 'india']\n",
        "print(classification_report(test_labels, predictions, target_names=target_names))\n",
        "\n",
        "# Ho provato a vedere se con una normalizzazione il risulato sarebbe cambiato, ma il risultato è identico  "
      ],
      "metadata": {
        "colab": {
          "base_uri": "https://localhost:8080/"
        },
        "id": "6sVnoHdyZdqX",
        "outputId": "3f72d2a7-6e3d-4ee4-f4e8-fd6b23ac949d"
      }
    },
    {
      "cell_type": "code",
      "execution_count": null,
      "outputs": [
        {
          "output_type": "display_data",
          "data": {
            "text/plain": [
              "<Figure size 640x480 with 2 Axes>"
            ],
            "image/png": "[encoded data removed]"
          },
          "metadata": {}
        }
      ],
      "source": [
        "# Matrice di confusione\n",
        "cm = confusion_matrix(test_labels, predictions)\n",
        "\n",
        "# Plot della matrice di confusione\n",
        "sns.set(font_scale=1.4) # Imposta la scala del font per renderlo più leggibile\n",
        "sns.heatmap(cm, annot=True, annot_kws={\"size\": 16}, fmt='d', cmap='Blues', xticklabels=target_names, yticklabels=target_names)\n",
        "plt.xlabel('Predicted')\n",
        "plt.ylabel('True')\n",
        "plt.show()"
      ],
      "metadata": {
        "colab": {
          "base_uri": "https://localhost:8080/",
          "height": 468
        },
        "id": "iMP59pmSZdqY",
        "outputId": "04c440da-aa15-4098-b379-5610ce199cf3"
      }
    },
    {
      "cell_type": "markdown",
      "source": [
        "MultinomialNB (Naive Bayes) classifier:"
      ],
      "metadata": {
        "collapsed": false,
        "id": "cFUg7WhIZdqY"
      }
    },
    {
      "cell_type": "code",
      "execution_count": null,
      "outputs": [
        {
          "output_type": "stream",
          "name": "stdout",
          "text": [
            "              precision    recall  f1-score   support\n",
            "\n",
            "       china       1.00      0.99      1.00       122\n",
            "       india       1.00      1.00      1.00       267\n",
            "\n",
            "    accuracy                           1.00       389\n",
            "   macro avg       1.00      1.00      1.00       389\n",
            "weighted avg       1.00      1.00      1.00       389\n",
            "\n",
            "Indice dell'articolo non correttamente classificato: 318\n",
            "Etichetta reale: china\n",
            "Etichetta prevista: india\n",
            "\n",
            "Testo dell'articolo:\n",
            "Coronavirus: China's plan to test everyone in Wuhan. China has completed a mass testing programme in Wuhan, the city where the Covid-19 pandemic began.The authorities had pledged to test the entire city over a 10-day period after a cluster of new infections arose.We've looked at the original plan, and what was achieved.Wuhan has an estimated population of 11 million people, so aiming to test everyone in 10 days would have been an ambitious target.But those already tested in the seven days prior to mass testing starting, as well as any children under six years of age, were excluded from the programme.The total number of tests needed may have been reduced further given that some residents who left Wuhan before the lockdown in January may well not have returned.However, we don't have an exact number for this.Also,  the timeframe has shifted somewhat since the initial announcement of a 10-day programme of testing, which was made on 12 May.The Wuhan authorities later said different districts within the city would be starting at different times.\"Each district finishes its tests within 10 days from the date it started them,\" the Wuhan Centre for Disease Control said, which effectively extended the deadline beyond the original pledge.All the data we have comes from official sources in Wuhan, and there's no independent verification for the numbers.As of 1 June, a total of 9.9 million people had been tested, according to the city health authorities.They said this marks the end of the mass testing programme.They also said that if you include one million people tested in the seven days before the mass programme began in their area (and who didn't need retesting), that's a total of 10.9 million people tested out of the population of 11 million.It's taken longer to test everyone than the 10-day period that was promised when the plan was first announced.However, they did manage to collect as many as nine million test samples after 10 days, so nearly the entire population.That was largely achieved through a significant boost to daily testing capacity.Before they began the mass testing, there were about 60 centres across the city, with an overall maximum capacity of 100,000 tests a day, according to the official Hubei Daily newspaper.By 1 June, the authorities said they had 249 testing centres operating.They also mobilised teams to test old people, and the disabled or vulnerable in their own homes.There were more than 1,450 testing staff involved.The other way they sped up the process was to use a batch testing method, which groups individual test samples together.Reports suggest they used batches of between five and 10 samples in Wuhan, only carrying out individual tests if a batch proved positive.And as many as 25% of all tests were done using this method.This is an efficient way to test large numbers of people where infection levels are low, as most batches would produce negative results.And it appears to have worked in Wuhan because 97% of local communities across the city reported no positive tests, according to the official data.The authorities said they had found just 300 positive cases (all without symptoms) out of all the tests done, and traced a further 1,174 close contacts of these people.Read more from Reality CheckSend us your questionsFollow us on Twitter\n"
          ]
        }
      ],
      "source": [
        "from sklearn.feature_extraction.text import CountVectorizer\n",
        "from sklearn.naive_bayes import MultinomialNB\n",
        "\n",
        "# Conversione dei testi in features (conteggio parole)\n",
        "vectorizer = CountVectorizer()\n",
        "training_features = vectorizer.fit_transform(training_data)\n",
        "test_features = vectorizer.transform(test_data)\n",
        "\n",
        "# Training\n",
        "classifier = MultinomialNB()\n",
        "classifier.fit(training_features, training_labels)\n",
        "\n",
        "# Test\n",
        "predictions = classifier.predict(test_features)\n",
        "\n",
        "target_names = ['china', 'india']\n",
        "print(classification_report(test_labels, predictions, target_names=target_names))\n",
        "\n",
        "\n",
        "# Cerchiamo di identificare quali sono gli articoli non classificati correttamente\n",
        "mismatch_index = -1\n",
        "for i, (true_label, predicted_label) in enumerate(zip(test_labels, predictions)):\n",
        "    if true_label != predicted_label:\n",
        "        mismatch_index = i\n",
        "        break\n",
        "\n",
        "if mismatch_index != -1:\n",
        "    print(\"Indice dell'articolo non correttamente classificato:\", mismatch_index)\n",
        "    print(\"Etichetta reale:\", test_labels[mismatch_index])\n",
        "    print(\"Etichetta prevista:\", predictions[mismatch_index])\n",
        "    print(\"\\nTesto dell'articolo:\")\n",
        "    print(test_data[mismatch_index])\n",
        "else:\n",
        "    print(\"Tutti gli articoli sono stati classificati correttamente.\")\n",
        "\n",
        "# Finalmente ho ottenuto un risultato pressochè perfetto, ho estrapolato l'unico articolo che non è roiscoto ad identificare"
      ],
      "metadata": {
        "colab": {
          "base_uri": "https://localhost:8080/"
        },
        "id": "pQnQcSm5ZdqY",
        "outputId": "001a513e-7fbb-4b50-dcb6-f892ece1a757"
      }
    },
    {
      "cell_type": "code",
      "execution_count": null,
      "outputs": [
        {
          "output_type": "display_data",
          "data": {
            "text/plain": [
              "<Figure size 640x480 with 2 Axes>"
            ],
            "image/png": "[encoded data removed]"
          },
          "metadata": {}
        }
      ],
      "source": [
        "# Matrice di confusione\n",
        "cm = confusion_matrix(test_labels, predictions)\n",
        "\n",
        "# Plot della matrice di confusione\n",
        "sns.set(font_scale=1.4) # Imposta la scala del font per renderlo più leggibile\n",
        "sns.heatmap(cm, annot=True, annot_kws={\"size\": 16}, fmt='d', cmap='Blues', xticklabels=target_names, yticklabels=target_names)\n",
        "plt.xlabel('Predicted')\n",
        "plt.ylabel('True')\n",
        "plt.show()"
      ],
      "metadata": {
        "colab": {
          "base_uri": "https://localhost:8080/",
          "height": 468
        },
        "id": "SKWk_kA_ZdqY",
        "outputId": "7620f8c5-7bf4-4d9c-a0c5-5bd37f1d669b"
      }
    },
    {
      "cell_type": "markdown",
      "source": [
        "Bert completo:"
      ],
      "metadata": {
        "collapsed": false,
        "id": "HrPgF5CNZdqZ"
      }
    },
    {
      "cell_type": "code",
      "execution_count": null,
      "outputs": [
        {
          "output_type": "stream",
          "name": "stdout",
          "text": [
            "Looking in indexes: https://pypi.org/simple, https://us-python.pkg.dev/colab-wheels/public/simple/\n",
            "Collecting transformers\n",
            "  Downloading transformers-4.28.1-py3-none-any.whl (7.0 MB)\n",
            "\u001b[2K     \u001b[90m━━━━━━━━━━━━━━━━━━━━━━━━━━━━━━━━━━━━━━━━\u001b[0m \u001b[32m7.0/7.0 MB\u001b[0m \u001b[31m30.9 MB/s\u001b[0m eta \u001b[36m0:00:00\u001b[0m\n",
            "\u001b[?25hRequirement already satisfied: huggingface-hub<1.0,>=0.11.0 in /usr/local/lib/python3.10/dist-packages (from transformers) (0.14.1)\n",
            "Requirement already satisfied: tqdm>=4.27 in /usr/local/lib/python3.10/dist-packages (from transformers) (4.65.0)\n",
            "Requirement already satisfied: regex!=2019.12.17 in /usr/local/lib/python3.10/dist-packages (from transformers) (2022.10.31)\n",
            "Requirement already satisfied: pyyaml>=5.1 in /usr/local/lib/python3.10/dist-packages (from transformers) (6.0)\n",
            "Requirement already satisfied: numpy>=1.17 in /usr/local/lib/python3.10/dist-packages (from transformers) (1.22.4)\n",
            "Requirement already satisfied: filelock in /usr/local/lib/python3.10/dist-packages (from transformers) (3.12.0)\n",
            "Collecting tokenizers!=0.11.3,<0.14,>=0.11.1\n",
            "  Downloading tokenizers-0.13.3-cp310-cp310-manylinux_2_17_x86_64.manylinux2014_x86_64.whl (7.8 MB)\n",
            "\u001b[2K     \u001b[90m━━━━━━━━━━━━━━━━━━━━━━━━━━━━━━━━━━━━━━━━\u001b[0m \u001b[32m7.8/7.8 MB\u001b[0m \u001b[31m107.3 MB/s\u001b[0m eta \u001b[36m0:00:00\u001b[0m\n",
            "\u001b[?25hRequirement already satisfied: packaging>=20.0 in /usr/local/lib/python3.10/dist-packages (from transformers) (23.1)\n",
            "Requirement already satisfied: requests in /usr/local/lib/python3.10/dist-packages (from transformers) (2.27.1)\n",
            "Requirement already satisfied: typing-extensions>=3.7.4.3 in /usr/local/lib/python3.10/dist-packages (from huggingface-hub<1.0,>=0.11.0->transformers) (4.5.0)\n",
            "Requirement already satisfied: fsspec in /usr/local/lib/python3.10/dist-packages (from huggingface-hub<1.0,>=0.11.0->transformers) (2023.4.0)\n",
            "Requirement already satisfied: charset-normalizer~=2.0.0 in /usr/local/lib/python3.10/dist-packages (from requests->transformers) (2.0.12)\n",
            "Requirement already satisfied: certifi>=2017.4.17 in /usr/local/lib/python3.10/dist-packages (from requests->transformers) (2022.12.7)\n",
            "Requirement already satisfied: urllib3<1.27,>=1.21.1 in /usr/local/lib/python3.10/dist-packages (from requests->transformers) (1.26.15)\n",
            "Requirement already satisfied: idna<4,>=2.5 in /usr/local/lib/python3.10/dist-packages (from requests->transformers) (3.4)\n",
            "Installing collected packages: tokenizers, transformers\n",
            "Successfully installed tokenizers-0.13.3 transformers-4.28.1\n"
          ]
        },
        {
          "output_type": "display_data",
          "data": {
            "text/plain": [
              "Downloading (…)okenizer_config.json:   0%|          | 0.00/29.0 [00:00<?, ?B/s]"
            ],
            "application/vnd.jupyter.widget-view+json": {
              "version_major": 2,
              "version_minor": 0,
              "model_id": "f54e21e54d634169ad168693a452bc48"
            }
          },
          "metadata": {}
        },
        {
          "output_type": "display_data",
          "data": {
            "text/plain": [
              "Downloading (…)lve/main/config.json:   0%|          | 0.00/570 [00:00<?, ?B/s]"
            ],
            "application/vnd.jupyter.widget-view+json": {
              "version_major": 2,
              "version_minor": 0,
              "model_id": "43b63f0907684e60b8cd3c6d9fa7ccb9"
            }
          },
          "metadata": {}
        },
        {
          "output_type": "display_data",
          "data": {
            "text/plain": [
              "Downloading (…)solve/main/vocab.txt:   0%|          | 0.00/213k [00:00<?, ?B/s]"
            ],
            "application/vnd.jupyter.widget-view+json": {
              "version_major": 2,
              "version_minor": 0,
              "model_id": "dd59b51d5d684cf99e879665ea4c426b"
            }
          },
          "metadata": {}
        },
        {
          "output_type": "display_data",
          "data": {
            "text/plain": [
              "Downloading (…)/main/tokenizer.json:   0%|          | 0.00/436k [00:00<?, ?B/s]"
            ],
            "application/vnd.jupyter.widget-view+json": {
              "version_major": 2,
              "version_minor": 0,
              "model_id": "31d4120d925e40b8accf8c75a4947405"
            }
          },
          "metadata": {}
        },
        {
          "output_type": "display_data",
          "data": {
            "text/plain": [
              "Downloading (…)lve/main/config.json:   0%|          | 0.00/570 [00:00<?, ?B/s]"
            ],
            "application/vnd.jupyter.widget-view+json": {
              "version_major": 2,
              "version_minor": 0,
              "model_id": "37f86a327f024e6d94e4d499664242bd"
            }
          },
          "metadata": {}
        },
        {
          "output_type": "display_data",
          "data": {
            "text/plain": [
              "Downloading tf_model.h5:   0%|          | 0.00/536M [00:00<?, ?B/s]"
            ],
            "application/vnd.jupyter.widget-view+json": {
              "version_major": 2,
              "version_minor": 0,
              "model_id": "c3afe06d95d04983a428cd7c5d604634"
            }
          },
          "metadata": {}
        },
        {
          "output_type": "stream",
          "name": "stderr",
          "text": [
            "All model checkpoint layers were used when initializing TFBertForSequenceClassification.\n",
            "\n",
            "Some layers of TFBertForSequenceClassification were not initialized from the model checkpoint at bert-base-uncased and are newly initialized: ['classifier']\n",
            "You should probably TRAIN this model on a down-stream task to be able to use it for predictions and inference.\n"
          ]
        },
        {
          "output_type": "stream",
          "name": "stdout",
          "text": [
            "Epoch 1/3\n",
            "197/197 [==============================] - 273s 1s/step - loss: 0.3380 - accuracy: 0.8682 - val_loss: 0.2623 - val_accuracy: 0.9318\n",
            "Epoch 2/3\n",
            "197/197 [==============================] - 211s 1s/step - loss: 0.0489 - accuracy: 0.9809 - val_loss: 0.0957 - val_accuracy: 0.9740\n",
            "Epoch 3/3\n",
            "197/197 [==============================] - 215s 1s/step - loss: 0.0020 - accuracy: 1.0000 - val_loss: 0.1403 - val_accuracy: 0.9740\n",
            "Test accuracy: 100.00%\n",
            "13/13 [==============================] - 19s 1s/step\n",
            "              precision    recall  f1-score   support\n",
            "\n",
            "       china       1.00      1.00      1.00       122\n",
            "       india       1.00      1.00      1.00       267\n",
            "\n",
            "    accuracy                           1.00       389\n",
            "   macro avg       1.00      1.00      1.00       389\n",
            "weighted avg       1.00      1.00      1.00       389\n",
            "\n"
          ]
        }
      ],
      "source": [
        "# !!!! L'ESECUZIONE RICHIEDE MOLTO TEMPO !!!!\n",
        "!pip install transformers\n",
        "\n",
        "import tensorflow as tf\n",
        "import numpy as np\n",
        "from transformers import AutoTokenizer, TFBertForSequenceClassification\n",
        "from sklearn.metrics import classification_report\n",
        "from sklearn.preprocessing import LabelEncoder\n",
        "\n",
        "# Tokenizzo i dati diminuendo la lunghezza del testo (aumento la velocità di esecuzione a caspito della precisione)\n",
        "tokenizer = AutoTokenizer.from_pretrained(\"bert-base-cased\")\n",
        "train_encodings = tokenizer(training_data, truncation=True, padding=True, max_length=512)\n",
        "val_encodings = tokenizer(validation_data, truncation=True, padding=True, max_length=512)\n",
        "test_encodings = tokenizer(test_data, truncation=True, padding=True, max_length=512)\n",
        "\n",
        "# Converto le label in interi\n",
        "le = LabelEncoder()\n",
        "training_labels = le.fit_transform(training_labels)\n",
        "validation_labels = le.transform(validation_labels)\n",
        "test_labels = le.transform(test_labels)\n",
        "\n",
        "num_classes = len(np.unique(training_labels))  # Calcola il numero di classi univoche\n",
        "\n",
        "# Definisco il modello Bert non case sensitive\n",
        "input_layer = tf.keras.layers.Input(shape=(512,), dtype=tf.int32)\n",
        "bert_model = TFBertForSequenceClassification.from_pretrained('bert-base-uncased', num_labels=num_classes)\n",
        "outputs = bert_model(input_layer).logits\n",
        "model = tf.keras.Model(inputs=input_layer, outputs=outputs)\n",
        "\n",
        "# Compilo il modello\n",
        "model.compile(optimizer=tf.keras.optimizers.Adam(learning_rate=2e-5),\n",
        "              loss=tf.keras.losses.SparseCategoricalCrossentropy(from_logits=True),\n",
        "              metrics=['accuracy'])\n",
        "\n",
        "# Addestro il modello\n",
        "model.fit(\n",
        "    np.array(train_encodings['input_ids']), np.array(training_labels),\n",
        "    validation_data=(np.array(val_encodings['input_ids']), np.array(validation_labels)),\n",
        "    epochs=3, batch_size=8\n",
        ")\n",
        "\n",
        "# Valuto il modello sul test set\n",
        "_, test_acc = model.evaluate(np.array(test_encodings['input_ids']), np.array(test_labels), verbose=0)\n",
        "print(f'Test accuracy: {100 * test_acc:.2f}%')\n",
        "\n",
        "# Faccio le predizioni sul test set\n",
        "predictions = np.argmax(model.predict(np.array(test_encodings['input_ids'])), axis=1)\n",
        "\n",
        "# Converto le predizioni e le etichett in liste per evitare l'errore\n",
        "predictions_list = predictions.tolist()\n",
        "test_labels_list = test_labels.tolist()\n",
        "\n",
        "target_names = le.classes_\n",
        "print(classification_report(test_labels_list, predictions_list, target_names=target_names))\n",
        "\n",
        "\n",
        "# Possiamo notare che con Bert l'accuratezza è perfetta. Questo classificatore è il vincitore!!"
      ],
      "metadata": {
        "colab": {
          "base_uri": "https://localhost:8080/",
          "height": 992,
          "referenced_widgets": [
            "f54e21e54d634169ad168693a452bc48",
            "f05742f5ec0640d3815fe58dc833885c",
            "115b2f71707743f8859517734f81c1d2",
            "83b9e234219047ef96fe513567ac2811",
            "2b1aabcab3c54e629689d861004b5380",
            "14ad543cde604912a0821bf3675b650f",
            "aba17b5f3fce42ee9468798e27077a76",
            "20742d617b6d4e79af6b3b774b3e7117",
            "5e074df42ea647598e107612261fc4d1",
            "eaacde53b9c640138712ec3ca04c015f",
            "d1019fba29424f979307cc42c35c30e0",
            "43b63f0907684e60b8cd3c6d9fa7ccb9",
            "fcd52e0fed314e12bd8567d0f0d1292b",
            "5ba3dc041e094b19b5152ea9e06323e5",
            "59534328236f4f9a906db7373666c2ba",
            "c7caaf131ac14481862b3765f62e5f00",
            "6c7822340a4245aeade772eec983c517",
            "3e5b215e9fe443d88921423ece87a767",
            "5eb34eb8bdf0447dabcec31969791613",
            "58ea569f7df7441b90bcbd0f3899d6e7",
            "ca17b5b3283640868e42f43b6867f456",
            "d2f6f01cccae47c3b445cb20010437ff",
            "dd59b51d5d684cf99e879665ea4c426b",
            "9328b75a636748718af1a4ade8d64e0b",
            "67ebf217c61d4cbc82f43d40b24df6f8",
            "253dc70716314e75b690d5f48a4e7449",
            "39c517984c084d4c8b2831de22f6d5dc",
            "40648d803c5d4f318deeba1f64def025",
            "64675a5efa374951aaaae1e5a8410151",
            "7b6a53d88513462fb54bb8fc1b10b5cb",
            "2adf25d0ab2244cb96b1500e783c87bd",
            "fcf37806828a47afb45f8a0a1e9c5609",
            "67586805d4534542b009b5d1ac086d69",
            "31d4120d925e40b8accf8c75a4947405",
            "2935c28751a241c5b59d4c7708daec4c",
            "c94cdfb0892a42e6b1b70be52abd8440",
            "90e1435600e0433bbb304f83ae103b0f",
            "5cf744d015a6418bbcbfd878b479927b",
            "b6dd959ab72b4dae8be987ba3d4245f9",
            "84655fbe1a89438ebb50d96b5c57b0d2",
            "ad29f5688a004ccfa6bdc8eaae6ab80d",
            "3d2b48835d6b4e27aa8f7d4c2d96a73a",
            "a874a98a0c594b81b615a732d70b13f1",
            "938af66cc97c40809a59410e1d5d5b7a",
            "37f86a327f024e6d94e4d499664242bd",
            "5780a808aad644d1b5ac5e51bc43ae21",
            "2d80d4a7e7b246539e76556163c75e56",
            "7a94f620c6e44b99a586397a363b0209",
            "3ee124aad677476fb572e7135054de6c",
            "f94ff40aead34621a36feb2bc7bb1a3c",
            "527bb200ba914de19cfa06d104707aaf",
            "ccccfcb9196b49c9b126b80d309612a8",
            "f99b12cf6e8d4e56a98b5c64ba9622d4",
            "a9999d5a47a941dd95a58d9d97bd9b94",
            "2b7480ae726d496597e2041dd8f35d2e",
            "c3afe06d95d04983a428cd7c5d604634",
            "03b50b1c28e749a3852254e5c4f84c91",
            "d03422806b1d4a1a90894d89734f536c",
            "b294d98b38654a04bf60691376dcbdc6",
            "b7ea16daf8154f489752840b41153f1b",
            "f7f600b7c5844f2796822201102b734b",
            "cb33a02d8c3e4346a127f33e0e902db4",
            "0df769624c9a4c51817350c0a723b3d1",
            "063a529b2506441abc2aa4dff5db76a8",
            "7f3d7ce4729d43fa98f56301b33320ca",
            "709d1a7afdca41f0afcde36fecf6edcd"
          ]
        },
        "id": "cSWFb5b4ZdqZ",
        "outputId": "8ffc6377-f682-472f-b331-7b15da5c8212"
      }
    },
    {
      "cell_type": "code",
      "source": [
        "# Matrice di confusione\n",
        "cm = confusion_matrix(test_labels, predictions)\n",
        "\n",
        "# Plot della matrice di confusione\n",
        "sns.set(font_scale=1.4) # Imposta la scala del font per renderlo più leggibile\n",
        "sns.heatmap(cm, annot=True, annot_kws={\"size\": 16}, fmt='d', cmap='Blues', xticklabels=target_names, yticklabels=target_names)\n",
        "plt.xlabel('Predicted')\n",
        "plt.ylabel('True')\n",
        "plt.show()"
      ],
      "metadata": {
        "colab": {
          "base_uri": "https://localhost:8080/",
          "height": 468
        },
        "id": "KrD5cNj94zv4",
        "outputId": "304c3960-e449-49af-97e4-66bf00bd6810"
      },
      "execution_count": null,
      "outputs": [
        {
          "output_type": "display_data",
          "data": {
            "text/plain": [
              "<Figure size 640x480 with 2 Axes>"
            ],
            "image/png": "[encoded data removed]"
          },
          "metadata": {}
        }
      ]
    }
  ],
  "metadata": {
    "kernelspec": {
      "display_name": "Python 3",
      "language": "python",
      "name": "python3"
    },
    "language_info": {
      "codemirror_mode": {
        "name": "ipython",
        "version": 2
      },
      "file_extension": ".py",
      "mimetype": "text/x-python",
      "name": "python",
      "nbconvert_exporter": "python",
      "pygments_lexer": "ipython2",
      "version": "2.7.6"
    },
    "colab": {
      "provenance": [],
      "gpuType": "T4",
      "include_colab_link": true
    },
    "accelerator": "GPU",
    "gpuClass": "standard",
    "widgets": {
      "application/vnd.jupyter.widget-state+json": {
        "f54e21e54d634169ad168693a452bc48": {
          "model_module": "@jupyter-widgets/controls",
          "model_name": "HBoxModel",
          "model_module_version": "1.5.0",
          "state": {
            "_dom_classes": [],
            "_model_module": "@jupyter-widgets/controls",
            "_model_module_version": "1.5.0",
            "_model_name": "HBoxModel",
            "_view_count": null,
            "_view_module": "@jupyter-widgets/controls",
            "_view_module_version": "1.5.0",
            "_view_name": "HBoxView",
            "box_style": "",
            "children": [
              "IPY_MODEL_f05742f5ec0640d3815fe58dc833885c",
              "IPY_MODEL_115b2f71707743f8859517734f81c1d2",
              "IPY_MODEL_83b9e234219047ef96fe513567ac2811"
            ],
            "layout": "IPY_MODEL_2b1aabcab3c54e629689d861004b5380"
          }
        },
        "f05742f5ec0640d3815fe58dc833885c": {
          "model_module": "@jupyter-widgets/controls",
          "model_name": "HTMLModel",
          "model_module_version": "1.5.0",
          "state": {
            "_dom_classes": [],
            "_model_module": "@jupyter-widgets/controls",
            "_model_module_version": "1.5.0",
            "_model_name": "HTMLModel",
            "_view_count": null,
            "_view_module": "@jupyter-widgets/controls",
            "_view_module_version": "1.5.0",
            "_view_name": "HTMLView",
            "description": "",
            "description_tooltip": null,
            "layout": "IPY_MODEL_14ad543cde604912a0821bf3675b650f",
            "placeholder": "​",
            "style": "IPY_MODEL_aba17b5f3fce42ee9468798e27077a76",
            "value": "Downloading (…)okenizer_config.json: 100%"
          }
        },
        "115b2f71707743f8859517734f81c1d2": {
          "model_module": "@jupyter-widgets/controls",
          "model_name": "FloatProgressModel",
          "model_module_version": "1.5.0",
          "state": {
            "_dom_classes": [],
            "_model_module": "@jupyter-widgets/controls",
            "_model_module_version": "1.5.0",
            "_model_name": "FloatProgressModel",
            "_view_count": null,
            "_view_module": "@jupyter-widgets/controls",
            "_view_module_version": "1.5.0",
            "_view_name": "ProgressView",
            "bar_style": "success",
            "description": "",
            "description_tooltip": null,
            "layout": "IPY_MODEL_20742d617b6d4e79af6b3b774b3e7117",
            "max": 29,
            "min": 0,
            "orientation": "horizontal",
            "style": "IPY_MODEL_5e074df42ea647598e107612261fc4d1",
            "value": 29
          }
        },
        "83b9e234219047ef96fe513567ac2811": {
          "model_module": "@jupyter-widgets/controls",
          "model_name": "HTMLModel",
          "model_module_version": "1.5.0",
          "state": {
            "_dom_classes": [],
            "_model_module": "@jupyter-widgets/controls",
            "_model_module_version": "1.5.0",
            "_model_name": "HTMLModel",
            "_view_count": null,
            "_view_module": "@jupyter-widgets/controls",
            "_view_module_version": "1.5.0",
            "_view_name": "HTMLView",
            "description": "",
            "description_tooltip": null,
            "layout": "IPY_MODEL_eaacde53b9c640138712ec3ca04c015f",
            "placeholder": "​",
            "style": "IPY_MODEL_d1019fba29424f979307cc42c35c30e0",
            "value": " 29.0/29.0 [00:00&lt;00:00, 1.60kB/s]"
          }
        },
        "2b1aabcab3c54e629689d861004b5380": {
          "model_module": "@jupyter-widgets/base",
          "model_name": "LayoutModel",
          "model_module_version": "1.2.0",
          "state": {
            "_model_module": "@jupyter-widgets/base",
            "_model_module_version": "1.2.0",
            "_model_name": "LayoutModel",
            "_view_count": null,
            "_view_module": "@jupyter-widgets/base",
            "_view_module_version": "1.2.0",
            "_view_name": "LayoutView",
            "align_content": null,
            "align_items": null,
            "align_self": null,
            "border": null,
            "bottom": null,
            "display": null,
            "flex": null,
            "flex_flow": null,
            "grid_area": null,
            "grid_auto_columns": null,
            "grid_auto_flow": null,
            "grid_auto_rows": null,
            "grid_column": null,
            "grid_gap": null,
            "grid_row": null,
            "grid_template_areas": null,
            "grid_template_columns": null,
            "grid_template_rows": null,
            "height": null,
            "justify_content": null,
            "justify_items": null,
            "left": null,
            "margin": null,
            "max_height": null,
            "max_width": null,
            "min_height": null,
            "min_width": null,
            "object_fit": null,
            "object_position": null,
            "order": null,
            "overflow": null,
            "overflow_x": null,
            "overflow_y": null,
            "padding": null,
            "right": null,
            "top": null,
            "visibility": null,
            "width": null
          }
        },
        "14ad543cde604912a0821bf3675b650f": {
          "model_module": "@jupyter-widgets/base",
          "model_name": "LayoutModel",
          "model_module_version": "1.2.0",
          "state": {
            "_model_module": "@jupyter-widgets/base",
            "_model_module_version": "1.2.0",
            "_model_name": "LayoutModel",
            "_view_count": null,
            "_view_module": "@jupyter-widgets/base",
            "_view_module_version": "1.2.0",
            "_view_name": "LayoutView",
            "align_content": null,
            "align_items": null,
            "align_self": null,
            "border": null,
            "bottom": null,
            "display": null,
            "flex": null,
            "flex_flow": null,
            "grid_area": null,
            "grid_auto_columns": null,
            "grid_auto_flow": null,
            "grid_auto_rows": null,
            "grid_column": null,
            "grid_gap": null,
            "grid_row": null,
            "grid_template_areas": null,
            "grid_template_columns": null,
            "grid_template_rows": null,
            "height": null,
            "justify_content": null,
            "justify_items": null,
            "left": null,
            "margin": null,
            "max_height": null,
            "max_width": null,
            "min_height": null,
            "min_width": null,
            "object_fit": null,
            "object_position": null,
            "order": null,
            "overflow": null,
            "overflow_x": null,
            "overflow_y": null,
            "padding": null,
            "right": null,
            "top": null,
            "visibility": null,
            "width": null
          }
        },
        "aba17b5f3fce42ee9468798e27077a76": {
          "model_module": "@jupyter-widgets/controls",
          "model_name": "DescriptionStyleModel",
          "model_module_version": "1.5.0",
          "state": {
            "_model_module": "@jupyter-widgets/controls",
            "_model_module_version": "1.5.0",
            "_model_name": "DescriptionStyleModel",
            "_view_count": null,
            "_view_module": "@jupyter-widgets/base",
            "_view_module_version": "1.2.0",
            "_view_name": "StyleView",
            "description_width": ""
          }
        },
        "20742d617b6d4e79af6b3b774b3e7117": {
          "model_module": "@jupyter-widgets/base",
          "model_name": "LayoutModel",
          "model_module_version": "1.2.0",
          "state": {
            "_model_module": "@jupyter-widgets/base",
            "_model_module_version": "1.2.0",
            "_model_name": "LayoutModel",
            "_view_count": null,
            "_view_module": "@jupyter-widgets/base",
            "_view_module_version": "1.2.0",
            "_view_name": "LayoutView",
            "align_content": null,
            "align_items": null,
            "align_self": null,
            "border": null,
            "bottom": null,
            "display": null,
            "flex": null,
            "flex_flow": null,
            "grid_area": null,
            "grid_auto_columns": null,
            "grid_auto_flow": null,
            "grid_auto_rows": null,
            "grid_column": null,
            "grid_gap": null,
            "grid_row": null,
            "grid_template_areas": null,
            "grid_template_columns": null,
            "grid_template_rows": null,
            "height": null,
            "justify_content": null,
            "justify_items": null,
            "left": null,
            "margin": null,
            "max_height": null,
            "max_width": null,
            "min_height": null,
            "min_width": null,
            "object_fit": null,
            "object_position": null,
            "order": null,
            "overflow": null,
            "overflow_x": null,
            "overflow_y": null,
            "padding": null,
            "right": null,
            "top": null,
            "visibility": null,
            "width": null
          }
        },
        "5e074df42ea647598e107612261fc4d1": {
          "model_module": "@jupyter-widgets/controls",
          "model_name": "ProgressStyleModel",
          "model_module_version": "1.5.0",
          "state": {
            "_model_module": "@jupyter-widgets/controls",
            "_model_module_version": "1.5.0",
            "_model_name": "ProgressStyleModel",
            "_view_count": null,
            "_view_module": "@jupyter-widgets/base",
            "_view_module_version": "1.2.0",
            "_view_name": "StyleView",
            "bar_color": null,
            "description_width": ""
          }
        },
        "eaacde53b9c640138712ec3ca04c015f": {
          "model_module": "@jupyter-widgets/base",
          "model_name": "LayoutModel",
          "model_module_version": "1.2.0",
          "state": {
            "_model_module": "@jupyter-widgets/base",
            "_model_module_version": "1.2.0",
            "_model_name": "LayoutModel",
            "_view_count": null,
            "_view_module": "@jupyter-widgets/base",
            "_view_module_version": "1.2.0",
            "_view_name": "LayoutView",
            "align_content": null,
            "align_items": null,
            "align_self": null,
            "border": null,
            "bottom": null,
            "display": null,
            "flex": null,
            "flex_flow": null,
            "grid_area": null,
            "grid_auto_columns": null,
            "grid_auto_flow": null,
            "grid_auto_rows": null,
            "grid_column": null,
            "grid_gap": null,
            "grid_row": null,
            "grid_template_areas": null,
            "grid_template_columns": null,
            "grid_template_rows": null,
            "height": null,
            "justify_content": null,
            "justify_items": null,
            "left": null,
            "margin": null,
            "max_height": null,
            "max_width": null,
            "min_height": null,
            "min_width": null,
            "object_fit": null,
            "object_position": null,
            "order": null,
            "overflow": null,
            "overflow_x": null,
            "overflow_y": null,
            "padding": null,
            "right": null,
            "top": null,
            "visibility": null,
            "width": null
          }
        },
        "d1019fba29424f979307cc42c35c30e0": {
          "model_module": "@jupyter-widgets/controls",
          "model_name": "DescriptionStyleModel",
          "model_module_version": "1.5.0",
          "state": {
            "_model_module": "@jupyter-widgets/controls",
            "_model_module_version": "1.5.0",
            "_model_name": "DescriptionStyleModel",
            "_view_count": null,
            "_view_module": "@jupyter-widgets/base",
            "_view_module_version": "1.2.0",
            "_view_name": "StyleView",
            "description_width": ""
          }
        },
        "43b63f0907684e60b8cd3c6d9fa7ccb9": {
          "model_module": "@jupyter-widgets/controls",
          "model_name": "HBoxModel",
          "model_module_version": "1.5.0",
          "state": {
            "_dom_classes": [],
            "_model_module": "@jupyter-widgets/controls",
            "_model_module_version": "1.5.0",
            "_model_name": "HBoxModel",
            "_view_count": null,
            "_view_module": "@jupyter-widgets/controls",
            "_view_module_version": "1.5.0",
            "_view_name": "HBoxView",
            "box_style": "",
            "children": [
              "IPY_MODEL_fcd52e0fed314e12bd8567d0f0d1292b",
              "IPY_MODEL_5ba3dc041e094b19b5152ea9e06323e5",
              "IPY_MODEL_59534328236f4f9a906db7373666c2ba"
            ],
            "layout": "IPY_MODEL_c7caaf131ac14481862b3765f62e5f00"
          }
        },
        "fcd52e0fed314e12bd8567d0f0d1292b": {
          "model_module": "@jupyter-widgets/controls",
          "model_name": "HTMLModel",
          "model_module_version": "1.5.0",
          "state": {
            "_dom_classes": [],
            "_model_module": "@jupyter-widgets/controls",
            "_model_module_version": "1.5.0",
            "_model_name": "HTMLModel",
            "_view_count": null,
            "_view_module": "@jupyter-widgets/controls",
            "_view_module_version": "1.5.0",
            "_view_name": "HTMLView",
            "description": "",
            "description_tooltip": null,
            "layout": "IPY_MODEL_6c7822340a4245aeade772eec983c517",
            "placeholder": "​",
            "style": "IPY_MODEL_3e5b215e9fe443d88921423ece87a767",
            "value": "Downloading (…)lve/main/config.json: 100%"
          }
        },
        "5ba3dc041e094b19b5152ea9e06323e5": {
          "model_module": "@jupyter-widgets/controls",
          "model_name": "FloatProgressModel",
          "model_module_version": "1.5.0",
          "state": {
            "_dom_classes": [],
            "_model_module": "@jupyter-widgets/controls",
            "_model_module_version": "1.5.0",
            "_model_name": "FloatProgressModel",
            "_view_count": null,
            "_view_module": "@jupyter-widgets/controls",
            "_view_module_version": "1.5.0",
            "_view_name": "ProgressView",
            "bar_style": "success",
            "description": "",
            "description_tooltip": null,
            "layout": "IPY_MODEL_5eb34eb8bdf0447dabcec31969791613",
            "max": 570,
            "min": 0,
            "orientation": "horizontal",
            "style": "IPY_MODEL_58ea569f7df7441b90bcbd0f3899d6e7",
            "value": 570
          }
        },
        "59534328236f4f9a906db7373666c2ba": {
          "model_module": "@jupyter-widgets/controls",
          "model_name": "HTMLModel",
          "model_module_version": "1.5.0",
          "state": {
            "_dom_classes": [],
            "_model_module": "@jupyter-widgets/controls",
            "_model_module_version": "1.5.0",
            "_model_name": "HTMLModel",
            "_view_count": null,
            "_view_module": "@jupyter-widgets/controls",
            "_view_module_version": "1.5.0",
            "_view_name": "HTMLView",
            "description": "",
            "description_tooltip": null,
            "layout": "IPY_MODEL_ca17b5b3283640868e42f43b6867f456",
            "placeholder": "​",
            "style": "IPY_MODEL_d2f6f01cccae47c3b445cb20010437ff",
            "value": " 570/570 [00:00&lt;00:00, 42.1kB/s]"
          }
        },
        "c7caaf131ac14481862b3765f62e5f00": {
          "model_module": "@jupyter-widgets/base",
          "model_name": "LayoutModel",
          "model_module_version": "1.2.0",
          "state": {
            "_model_module": "@jupyter-widgets/base",
            "_model_module_version": "1.2.0",
            "_model_name": "LayoutModel",
            "_view_count": null,
            "_view_module": "@jupyter-widgets/base",
            "_view_module_version": "1.2.0",
            "_view_name": "LayoutView",
            "align_content": null,
            "align_items": null,
            "align_self": null,
            "border": null,
            "bottom": null,
            "display": null,
            "flex": null,
            "flex_flow": null,
            "grid_area": null,
            "grid_auto_columns": null,
            "grid_auto_flow": null,
            "grid_auto_rows": null,
            "grid_column": null,
            "grid_gap": null,
            "grid_row": null,
            "grid_template_areas": null,
            "grid_template_columns": null,
            "grid_template_rows": null,
            "height": null,
            "justify_content": null,
            "justify_items": null,
            "left": null,
            "margin": null,
            "max_height": null,
            "max_width": null,
            "min_height": null,
            "min_width": null,
            "object_fit": null,
            "object_position": null,
            "order": null,
            "overflow": null,
            "overflow_x": null,
            "overflow_y": null,
            "padding": null,
            "right": null,
            "top": null,
            "visibility": null,
            "width": null
          }
        },
        "6c7822340a4245aeade772eec983c517": {
          "model_module": "@jupyter-widgets/base",
          "model_name": "LayoutModel",
          "model_module_version": "1.2.0",
          "state": {
            "_model_module": "@jupyter-widgets/base",
            "_model_module_version": "1.2.0",
            "_model_name": "LayoutModel",
            "_view_count": null,
            "_view_module": "@jupyter-widgets/base",
            "_view_module_version": "1.2.0",
            "_view_name": "LayoutView",
            "align_content": null,
            "align_items": null,
            "align_self": null,
            "border": null,
            "bottom": null,
            "display": null,
            "flex": null,
            "flex_flow": null,
            "grid_area": null,
            "grid_auto_columns": null,
            "grid_auto_flow": null,
            "grid_auto_rows": null,
            "grid_column": null,
            "grid_gap": null,
            "grid_row": null,
            "grid_template_areas": null,
            "grid_template_columns": null,
            "grid_template_rows": null,
            "height": null,
            "justify_content": null,
            "justify_items": null,
            "left": null,
            "margin": null,
            "max_height": null,
            "max_width": null,
            "min_height": null,
            "min_width": null,
            "object_fit": null,
            "object_position": null,
            "order": null,
            "overflow": null,
            "overflow_x": null,
            "overflow_y": null,
            "padding": null,
            "right": null,
            "top": null,
            "visibility": null,
            "width": null
          }
        },
        "3e5b215e9fe443d88921423ece87a767": {
          "model_module": "@jupyter-widgets/controls",
          "model_name": "DescriptionStyleModel",
          "model_module_version": "1.5.0",
          "state": {
            "_model_module": "@jupyter-widgets/controls",
            "_model_module_version": "1.5.0",
            "_model_name": "DescriptionStyleModel",
            "_view_count": null,
            "_view_module": "@jupyter-widgets/base",
            "_view_module_version": "1.2.0",
            "_view_name": "StyleView",
            "description_width": ""
          }
        },
        "5eb34eb8bdf0447dabcec31969791613": {
          "model_module": "@jupyter-widgets/base",
          "model_name": "LayoutModel",
          "model_module_version": "1.2.0",
          "state": {
            "_model_module": "@jupyter-widgets/base",
            "_model_module_version": "1.2.0",
            "_model_name": "LayoutModel",
            "_view_count": null,
            "_view_module": "@jupyter-widgets/base",
            "_view_module_version": "1.2.0",
            "_view_name": "LayoutView",
            "align_content": null,
            "align_items": null,
            "align_self": null,
            "border": null,
            "bottom": null,
            "display": null,
            "flex": null,
            "flex_flow": null,
            "grid_area": null,
            "grid_auto_columns": null,
            "grid_auto_flow": null,
            "grid_auto_rows": null,
            "grid_column": null,
            "grid_gap": null,
            "grid_row": null,
            "grid_template_areas": null,
            "grid_template_columns": null,
            "grid_template_rows": null,
            "height": null,
            "justify_content": null,
            "justify_items": null,
            "left": null,
            "margin": null,
            "max_height": null,
            "max_width": null,
            "min_height": null,
            "min_width": null,
            "object_fit": null,
            "object_position": null,
            "order": null,
            "overflow": null,
            "overflow_x": null,
            "overflow_y": null,
            "padding": null,
            "right": null,
            "top": null,
            "visibility": null,
            "width": null
          }
        },
        "58ea569f7df7441b90bcbd0f3899d6e7": {
          "model_module": "@jupyter-widgets/controls",
          "model_name": "ProgressStyleModel",
          "model_module_version": "1.5.0",
          "state": {
            "_model_module": "@jupyter-widgets/controls",
            "_model_module_version": "1.5.0",
            "_model_name": "ProgressStyleModel",
            "_view_count": null,
            "_view_module": "@jupyter-widgets/base",
            "_view_module_version": "1.2.0",
            "_view_name": "StyleView",
            "bar_color": null,
            "description_width": ""
          }
        },
        "ca17b5b3283640868e42f43b6867f456": {
          "model_module": "@jupyter-widgets/base",
          "model_name": "LayoutModel",
          "model_module_version": "1.2.0",
          "state": {
            "_model_module": "@jupyter-widgets/base",
            "_model_module_version": "1.2.0",
            "_model_name": "LayoutModel",
            "_view_count": null,
            "_view_module": "@jupyter-widgets/base",
            "_view_module_version": "1.2.0",
            "_view_name": "LayoutView",
            "align_content": null,
            "align_items": null,
            "align_self": null,
            "border": null,
            "bottom": null,
            "display": null,
            "flex": null,
            "flex_flow": null,
            "grid_area": null,
            "grid_auto_columns": null,
            "grid_auto_flow": null,
            "grid_auto_rows": null,
            "grid_column": null,
            "grid_gap": null,
            "grid_row": null,
            "grid_template_areas": null,
            "grid_template_columns": null,
            "grid_template_rows": null,
            "height": null,
            "justify_content": null,
            "justify_items": null,
            "left": null,
            "margin": null,
            "max_height": null,
            "max_width": null,
            "min_height": null,
            "min_width": null,
            "object_fit": null,
            "object_position": null,
            "order": null,
            "overflow": null,
            "overflow_x": null,
            "overflow_y": null,
            "padding": null,
            "right": null,
            "top": null,
            "visibility": null,
            "width": null
          }
        },
        "d2f6f01cccae47c3b445cb20010437ff": {
          "model_module": "@jupyter-widgets/controls",
          "model_name": "DescriptionStyleModel",
          "model_module_version": "1.5.0",
          "state": {
            "_model_module": "@jupyter-widgets/controls",
            "_model_module_version": "1.5.0",
            "_model_name": "DescriptionStyleModel",
            "_view_count": null,
            "_view_module": "@jupyter-widgets/base",
            "_view_module_version": "1.2.0",
            "_view_name": "StyleView",
            "description_width": ""
          }
        },
        "dd59b51d5d684cf99e879665ea4c426b": {
          "model_module": "@jupyter-widgets/controls",
          "model_name": "HBoxModel",
          "model_module_version": "1.5.0",
          "state": {
            "_dom_classes": [],
            "_model_module": "@jupyter-widgets/controls",
            "_model_module_version": "1.5.0",
            "_model_name": "HBoxModel",
            "_view_count": null,
            "_view_module": "@jupyter-widgets/controls",
            "_view_module_version": "1.5.0",
            "_view_name": "HBoxView",
            "box_style": "",
            "children": [
              "IPY_MODEL_9328b75a636748718af1a4ade8d64e0b",
              "IPY_MODEL_67ebf217c61d4cbc82f43d40b24df6f8",
              "IPY_MODEL_253dc70716314e75b690d5f48a4e7449"
            ],
            "layout": "IPY_MODEL_39c517984c084d4c8b2831de22f6d5dc"
          }
        },
        "9328b75a636748718af1a4ade8d64e0b": {
          "model_module": "@jupyter-widgets/controls",
          "model_name": "HTMLModel",
          "model_module_version": "1.5.0",
          "state": {
            "_dom_classes": [],
            "_model_module": "@jupyter-widgets/controls",
            "_model_module_version": "1.5.0",
            "_model_name": "HTMLModel",
            "_view_count": null,
            "_view_module": "@jupyter-widgets/controls",
            "_view_module_version": "1.5.0",
            "_view_name": "HTMLView",
            "description": "",
            "description_tooltip": null,
            "layout": "IPY_MODEL_40648d803c5d4f318deeba1f64def025",
            "placeholder": "​",
            "style": "IPY_MODEL_64675a5efa374951aaaae1e5a8410151",
            "value": "Downloading (…)solve/main/vocab.txt: 100%"
          }
        },
        "67ebf217c61d4cbc82f43d40b24df6f8": {
          "model_module": "@jupyter-widgets/controls",
          "model_name": "FloatProgressModel",
          "model_module_version": "1.5.0",
          "state": {
            "_dom_classes": [],
            "_model_module": "@jupyter-widgets/controls",
            "_model_module_version": "1.5.0",
            "_model_name": "FloatProgressModel",
            "_view_count": null,
            "_view_module": "@jupyter-widgets/controls",
            "_view_module_version": "1.5.0",
            "_view_name": "ProgressView",
            "bar_style": "success",
            "description": "",
            "description_tooltip": null,
            "layout": "IPY_MODEL_7b6a53d88513462fb54bb8fc1b10b5cb",
            "max": 213450,
            "min": 0,
            "orientation": "horizontal",
            "style": "IPY_MODEL_2adf25d0ab2244cb96b1500e783c87bd",
            "value": 213450
          }
        },
        "253dc70716314e75b690d5f48a4e7449": {
          "model_module": "@jupyter-widgets/controls",
          "model_name": "HTMLModel",
          "model_module_version": "1.5.0",
          "state": {
            "_dom_classes": [],
            "_model_module": "@jupyter-widgets/controls",
            "_model_module_version": "1.5.0",
            "_model_name": "HTMLModel",
            "_view_count": null,
            "_view_module": "@jupyter-widgets/controls",
            "_view_module_version": "1.5.0",
            "_view_name": "HTMLView",
            "description": "",
            "description_tooltip": null,
            "layout": "IPY_MODEL_fcf37806828a47afb45f8a0a1e9c5609",
            "placeholder": "​",
            "style": "IPY_MODEL_67586805d4534542b009b5d1ac086d69",
            "value": " 213k/213k [00:00&lt;00:00, 500kB/s]"
          }
        },
        "39c517984c084d4c8b2831de22f6d5dc": {
          "model_module": "@jupyter-widgets/base",
          "model_name": "LayoutModel",
          "model_module_version": "1.2.0",
          "state": {
            "_model_module": "@jupyter-widgets/base",
            "_model_module_version": "1.2.0",
            "_model_name": "LayoutModel",
            "_view_count": null,
            "_view_module": "@jupyter-widgets/base",
            "_view_module_version": "1.2.0",
            "_view_name": "LayoutView",
            "align_content": null,
            "align_items": null,
            "align_self": null,
            "border": null,
            "bottom": null,
            "display": null,
            "flex": null,
            "flex_flow": null,
            "grid_area": null,
            "grid_auto_columns": null,
            "grid_auto_flow": null,
            "grid_auto_rows": null,
            "grid_column": null,
            "grid_gap": null,
            "grid_row": null,
            "grid_template_areas": null,
            "grid_template_columns": null,
            "grid_template_rows": null,
            "height": null,
            "justify_content": null,
            "justify_items": null,
            "left": null,
            "margin": null,
            "max_height": null,
            "max_width": null,
            "min_height": null,
            "min_width": null,
            "object_fit": null,
            "object_position": null,
            "order": null,
            "overflow": null,
            "overflow_x": null,
            "overflow_y": null,
            "padding": null,
            "right": null,
            "top": null,
            "visibility": null,
            "width": null
          }
        },
        "40648d803c5d4f318deeba1f64def025": {
          "model_module": "@jupyter-widgets/base",
          "model_name": "LayoutModel",
          "model_module_version": "1.2.0",
          "state": {
            "_model_module": "@jupyter-widgets/base",
            "_model_module_version": "1.2.0",
            "_model_name": "LayoutModel",
            "_view_count": null,
            "_view_module": "@jupyter-widgets/base",
            "_view_module_version": "1.2.0",
            "_view_name": "LayoutView",
            "align_content": null,
            "align_items": null,
            "align_self": null,
            "border": null,
            "bottom": null,
            "display": null,
            "flex": null,
            "flex_flow": null,
            "grid_area": null,
            "grid_auto_columns": null,
            "grid_auto_flow": null,
            "grid_auto_rows": null,
            "grid_column": null,
            "grid_gap": null,
            "grid_row": null,
            "grid_template_areas": null,
            "grid_template_columns": null,
            "grid_template_rows": null,
            "height": null,
            "justify_content": null,
            "justify_items": null,
            "left": null,
            "margin": null,
            "max_height": null,
            "max_width": null,
            "min_height": null,
            "min_width": null,
            "object_fit": null,
            "object_position": null,
            "order": null,
            "overflow": null,
            "overflow_x": null,
            "overflow_y": null,
            "padding": null,
            "right": null,
            "top": null,
            "visibility": null,
            "width": null
          }
        },
        "64675a5efa374951aaaae1e5a8410151": {
          "model_module": "@jupyter-widgets/controls",
          "model_name": "DescriptionStyleModel",
          "model_module_version": "1.5.0",
          "state": {
            "_model_module": "@jupyter-widgets/controls",
            "_model_module_version": "1.5.0",
            "_model_name": "DescriptionStyleModel",
            "_view_count": null,
            "_view_module": "@jupyter-widgets/base",
            "_view_module_version": "1.2.0",
            "_view_name": "StyleView",
            "description_width": ""
          }
        },
        "7b6a53d88513462fb54bb8fc1b10b5cb": {
          "model_module": "@jupyter-widgets/base",
          "model_name": "LayoutModel",
          "model_module_version": "1.2.0",
          "state": {
            "_model_module": "@jupyter-widgets/base",
            "_model_module_version": "1.2.0",
            "_model_name": "LayoutModel",
            "_view_count": null,
            "_view_module": "@jupyter-widgets/base",
            "_view_module_version": "1.2.0",
            "_view_name": "LayoutView",
            "align_content": null,
            "align_items": null,
            "align_self": null,
            "border": null,
            "bottom": null,
            "display": null,
            "flex": null,
            "flex_flow": null,
            "grid_area": null,
            "grid_auto_columns": null,
            "grid_auto_flow": null,
            "grid_auto_rows": null,
            "grid_column": null,
            "grid_gap": null,
            "grid_row": null,
            "grid_template_areas": null,
            "grid_template_columns": null,
            "grid_template_rows": null,
            "height": null,
            "justify_content": null,
            "justify_items": null,
            "left": null,
            "margin": null,
            "max_height": null,
            "max_width": null,
            "min_height": null,
            "min_width": null,
            "object_fit": null,
            "object_position": null,
            "order": null,
            "overflow": null,
            "overflow_x": null,
            "overflow_y": null,
            "padding": null,
            "right": null,
            "top": null,
            "visibility": null,
            "width": null
          }
        },
        "2adf25d0ab2244cb96b1500e783c87bd": {
          "model_module": "@jupyter-widgets/controls",
          "model_name": "ProgressStyleModel",
          "model_module_version": "1.5.0",
          "state": {
            "_model_module": "@jupyter-widgets/controls",
            "_model_module_version": "1.5.0",
            "_model_name": "ProgressStyleModel",
            "_view_count": null,
            "_view_module": "@jupyter-widgets/base",
            "_view_module_version": "1.2.0",
            "_view_name": "StyleView",
            "bar_color": null,
            "description_width": ""
          }
        },
        "fcf37806828a47afb45f8a0a1e9c5609": {
          "model_module": "@jupyter-widgets/base",
          "model_name": "LayoutModel",
          "model_module_version": "1.2.0",
          "state": {
            "_model_module": "@jupyter-widgets/base",
            "_model_module_version": "1.2.0",
            "_model_name": "LayoutModel",
            "_view_count": null,
            "_view_module": "@jupyter-widgets/base",
            "_view_module_version": "1.2.0",
            "_view_name": "LayoutView",
            "align_content": null,
            "align_items": null,
            "align_self": null,
            "border": null,
            "bottom": null,
            "display": null,
            "flex": null,
            "flex_flow": null,
            "grid_area": null,
            "grid_auto_columns": null,
            "grid_auto_flow": null,
            "grid_auto_rows": null,
            "grid_column": null,
            "grid_gap": null,
            "grid_row": null,
            "grid_template_areas": null,
            "grid_template_columns": null,
            "grid_template_rows": null,
            "height": null,
            "justify_content": null,
            "justify_items": null,
            "left": null,
            "margin": null,
            "max_height": null,
            "max_width": null,
            "min_height": null,
            "min_width": null,
            "object_fit": null,
            "object_position": null,
            "order": null,
            "overflow": null,
            "overflow_x": null,
            "overflow_y": null,
            "padding": null,
            "right": null,
            "top": null,
            "visibility": null,
            "width": null
          }
        },
        "67586805d4534542b009b5d1ac086d69": {
          "model_module": "@jupyter-widgets/controls",
          "model_name": "DescriptionStyleModel",
          "model_module_version": "1.5.0",
          "state": {
            "_model_module": "@jupyter-widgets/controls",
            "_model_module_version": "1.5.0",
            "_model_name": "DescriptionStyleModel",
            "_view_count": null,
            "_view_module": "@jupyter-widgets/base",
            "_view_module_version": "1.2.0",
            "_view_name": "StyleView",
            "description_width": ""
          }
        },
        "31d4120d925e40b8accf8c75a4947405": {
          "model_module": "@jupyter-widgets/controls",
          "model_name": "HBoxModel",
          "model_module_version": "1.5.0",
          "state": {
            "_dom_classes": [],
            "_model_module": "@jupyter-widgets/controls",
            "_model_module_version": "1.5.0",
            "_model_name": "HBoxModel",
            "_view_count": null,
            "_view_module": "@jupyter-widgets/controls",
            "_view_module_version": "1.5.0",
            "_view_name": "HBoxView",
            "box_style": "",
            "children": [
              "IPY_MODEL_2935c28751a241c5b59d4c7708daec4c",
              "IPY_MODEL_c94cdfb0892a42e6b1b70be52abd8440",
              "IPY_MODEL_90e1435600e0433bbb304f83ae103b0f"
            ],
            "layout": "IPY_MODEL_5cf744d015a6418bbcbfd878b479927b"
          }
        },
        "2935c28751a241c5b59d4c7708daec4c": {
          "model_module": "@jupyter-widgets/controls",
          "model_name": "HTMLModel",
          "model_module_version": "1.5.0",
          "state": {
            "_dom_classes": [],
            "_model_module": "@jupyter-widgets/controls",
            "_model_module_version": "1.5.0",
            "_model_name": "HTMLModel",
            "_view_count": null,
            "_view_module": "@jupyter-widgets/controls",
            "_view_module_version": "1.5.0",
            "_view_name": "HTMLView",
            "description": "",
            "description_tooltip": null,
            "layout": "IPY_MODEL_b6dd959ab72b4dae8be987ba3d4245f9",
            "placeholder": "​",
            "style": "IPY_MODEL_84655fbe1a89438ebb50d96b5c57b0d2",
            "value": "Downloading (…)/main/tokenizer.json: 100%"
          }
        },
        "c94cdfb0892a42e6b1b70be52abd8440": {
          "model_module": "@jupyter-widgets/controls",
          "model_name": "FloatProgressModel",
          "model_module_version": "1.5.0",
          "state": {
            "_dom_classes": [],
            "_model_module": "@jupyter-widgets/controls",
            "_model_module_version": "1.5.0",
            "_model_name": "FloatProgressModel",
            "_view_count": null,
            "_view_module": "@jupyter-widgets/controls",
            "_view_module_version": "1.5.0",
            "_view_name": "ProgressView",
            "bar_style": "success",
            "description": "",
            "description_tooltip": null,
            "layout": "IPY_MODEL_ad29f5688a004ccfa6bdc8eaae6ab80d",
            "max": 435797,
            "min": 0,
            "orientation": "horizontal",
            "style": "IPY_MODEL_3d2b48835d6b4e27aa8f7d4c2d96a73a",
            "value": 435797
          }
        },
        "90e1435600e0433bbb304f83ae103b0f": {
          "model_module": "@jupyter-widgets/controls",
          "model_name": "HTMLModel",
          "model_module_version": "1.5.0",
          "state": {
            "_dom_classes": [],
            "_model_module": "@jupyter-widgets/controls",
            "_model_module_version": "1.5.0",
            "_model_name": "HTMLModel",
            "_view_count": null,
            "_view_module": "@jupyter-widgets/controls",
            "_view_module_version": "1.5.0",
            "_view_name": "HTMLView",
            "description": "",
            "description_tooltip": null,
            "layout": "IPY_MODEL_a874a98a0c594b81b615a732d70b13f1",
            "placeholder": "​",
            "style": "IPY_MODEL_938af66cc97c40809a59410e1d5d5b7a",
            "value": " 436k/436k [00:00&lt;00:00, 1.02MB/s]"
          }
        },
        "5cf744d015a6418bbcbfd878b479927b": {
          "model_module": "@jupyter-widgets/base",
          "model_name": "LayoutModel",
          "model_module_version": "1.2.0",
          "state": {
            "_model_module": "@jupyter-widgets/base",
            "_model_module_version": "1.2.0",
            "_model_name": "LayoutModel",
            "_view_count": null,
            "_view_module": "@jupyter-widgets/base",
            "_view_module_version": "1.2.0",
            "_view_name": "LayoutView",
            "align_content": null,
            "align_items": null,
            "align_self": null,
            "border": null,
            "bottom": null,
            "display": null,
            "flex": null,
            "flex_flow": null,
            "grid_area": null,
            "grid_auto_columns": null,
            "grid_auto_flow": null,
            "grid_auto_rows": null,
            "grid_column": null,
            "grid_gap": null,
            "grid_row": null,
            "grid_template_areas": null,
            "grid_template_columns": null,
            "grid_template_rows": null,
            "height": null,
            "justify_content": null,
            "justify_items": null,
            "left": null,
            "margin": null,
            "max_height": null,
            "max_width": null,
            "min_height": null,
            "min_width": null,
            "object_fit": null,
            "object_position": null,
            "order": null,
            "overflow": null,
            "overflow_x": null,
            "overflow_y": null,
            "padding": null,
            "right": null,
            "top": null,
            "visibility": null,
            "width": null
          }
        },
        "b6dd959ab72b4dae8be987ba3d4245f9": {
          "model_module": "@jupyter-widgets/base",
          "model_name": "LayoutModel",
          "model_module_version": "1.2.0",
          "state": {
            "_model_module": "@jupyter-widgets/base",
            "_model_module_version": "1.2.0",
            "_model_name": "LayoutModel",
            "_view_count": null,
            "_view_module": "@jupyter-widgets/base",
            "_view_module_version": "1.2.0",
            "_view_name": "LayoutView",
            "align_content": null,
            "align_items": null,
            "align_self": null,
            "border": null,
            "bottom": null,
            "display": null,
            "flex": null,
            "flex_flow": null,
            "grid_area": null,
            "grid_auto_columns": null,
            "grid_auto_flow": null,
            "grid_auto_rows": null,
            "grid_column": null,
            "grid_gap": null,
            "grid_row": null,
            "grid_template_areas": null,
            "grid_template_columns": null,
            "grid_template_rows": null,
            "height": null,
            "justify_content": null,
            "justify_items": null,
            "left": null,
            "margin": null,
            "max_height": null,
            "max_width": null,
            "min_height": null,
            "min_width": null,
            "object_fit": null,
            "object_position": null,
            "order": null,
            "overflow": null,
            "overflow_x": null,
            "overflow_y": null,
            "padding": null,
            "right": null,
            "top": null,
            "visibility": null,
            "width": null
          }
        },
        "84655fbe1a89438ebb50d96b5c57b0d2": {
          "model_module": "@jupyter-widgets/controls",
          "model_name": "DescriptionStyleModel",
          "model_module_version": "1.5.0",
          "state": {
            "_model_module": "@jupyter-widgets/controls",
            "_model_module_version": "1.5.0",
            "_model_name": "DescriptionStyleModel",
            "_view_count": null,
            "_view_module": "@jupyter-widgets/base",
            "_view_module_version": "1.2.0",
            "_view_name": "StyleView",
            "description_width": ""
          }
        },
        "ad29f5688a004ccfa6bdc8eaae6ab80d": {
          "model_module": "@jupyter-widgets/base",
          "model_name": "LayoutModel",
          "model_module_version": "1.2.0",
          "state": {
            "_model_module": "@jupyter-widgets/base",
            "_model_module_version": "1.2.0",
            "_model_name": "LayoutModel",
            "_view_count": null,
            "_view_module": "@jupyter-widgets/base",
            "_view_module_version": "1.2.0",
            "_view_name": "LayoutView",
            "align_content": null,
            "align_items": null,
            "align_self": null,
            "border": null,
            "bottom": null,
            "display": null,
            "flex": null,
            "flex_flow": null,
            "grid_area": null,
            "grid_auto_columns": null,
            "grid_auto_flow": null,
            "grid_auto_rows": null,
            "grid_column": null,
            "grid_gap": null,
            "grid_row": null,
            "grid_template_areas": null,
            "grid_template_columns": null,
            "grid_template_rows": null,
            "height": null,
            "justify_content": null,
            "justify_items": null,
            "left": null,
            "margin": null,
            "max_height": null,
            "max_width": null,
            "min_height": null,
            "min_width": null,
            "object_fit": null,
            "object_position": null,
            "order": null,
            "overflow": null,
            "overflow_x": null,
            "overflow_y": null,
            "padding": null,
            "right": null,
            "top": null,
            "visibility": null,
            "width": null
          }
        },
        "3d2b48835d6b4e27aa8f7d4c2d96a73a": {
          "model_module": "@jupyter-widgets/controls",
          "model_name": "ProgressStyleModel",
          "model_module_version": "1.5.0",
          "state": {
            "_model_module": "@jupyter-widgets/controls",
            "_model_module_version": "1.5.0",
            "_model_name": "ProgressStyleModel",
            "_view_count": null,
            "_view_module": "@jupyter-widgets/base",
            "_view_module_version": "1.2.0",
            "_view_name": "StyleView",
            "bar_color": null,
            "description_width": ""
          }
        },
        "a874a98a0c594b81b615a732d70b13f1": {
          "model_module": "@jupyter-widgets/base",
          "model_name": "LayoutModel",
          "model_module_version": "1.2.0",
          "state": {
            "_model_module": "@jupyter-widgets/base",
            "_model_module_version": "1.2.0",
            "_model_name": "LayoutModel",
            "_view_count": null,
            "_view_module": "@jupyter-widgets/base",
            "_view_module_version": "1.2.0",
            "_view_name": "LayoutView",
            "align_content": null,
            "align_items": null,
            "align_self": null,
            "border": null,
            "bottom": null,
            "display": null,
            "flex": null,
            "flex_flow": null,
            "grid_area": null,
            "grid_auto_columns": null,
            "grid_auto_flow": null,
            "grid_auto_rows": null,
            "grid_column": null,
            "grid_gap": null,
            "grid_row": null,
            "grid_template_areas": null,
            "grid_template_columns": null,
            "grid_template_rows": null,
            "height": null,
            "justify_content": null,
            "justify_items": null,
            "left": null,
            "margin": null,
            "max_height": null,
            "max_width": null,
            "min_height": null,
            "min_width": null,
            "object_fit": null,
            "object_position": null,
            "order": null,
            "overflow": null,
            "overflow_x": null,
            "overflow_y": null,
            "padding": null,
            "right": null,
            "top": null,
            "visibility": null,
            "width": null
          }
        },
        "938af66cc97c40809a59410e1d5d5b7a": {
          "model_module": "@jupyter-widgets/controls",
          "model_name": "DescriptionStyleModel",
          "model_module_version": "1.5.0",
          "state": {
            "_model_module": "@jupyter-widgets/controls",
            "_model_module_version": "1.5.0",
            "_model_name": "DescriptionStyleModel",
            "_view_count": null,
            "_view_module": "@jupyter-widgets/base",
            "_view_module_version": "1.2.0",
            "_view_name": "StyleView",
            "description_width": ""
          }
        },
        "37f86a327f024e6d94e4d499664242bd": {
          "model_module": "@jupyter-widgets/controls",
          "model_name": "HBoxModel",
          "model_module_version": "1.5.0",
          "state": {
            "_dom_classes": [],
            "_model_module": "@jupyter-widgets/controls",
            "_model_module_version": "1.5.0",
            "_model_name": "HBoxModel",
            "_view_count": null,
            "_view_module": "@jupyter-widgets/controls",
            "_view_module_version": "1.5.0",
            "_view_name": "HBoxView",
            "box_style": "",
            "children": [
              "IPY_MODEL_5780a808aad644d1b5ac5e51bc43ae21",
              "IPY_MODEL_2d80d4a7e7b246539e76556163c75e56",
              "IPY_MODEL_7a94f620c6e44b99a586397a363b0209"
            ],
            "layout": "IPY_MODEL_3ee124aad677476fb572e7135054de6c"
          }
        },
        "5780a808aad644d1b5ac5e51bc43ae21": {
          "model_module": "@jupyter-widgets/controls",
          "model_name": "HTMLModel",
          "model_module_version": "1.5.0",
          "state": {
            "_dom_classes": [],
            "_model_module": "@jupyter-widgets/controls",
            "_model_module_version": "1.5.0",
            "_model_name": "HTMLModel",
            "_view_count": null,
            "_view_module": "@jupyter-widgets/controls",
            "_view_module_version": "1.5.0",
            "_view_name": "HTMLView",
            "description": "",
            "description_tooltip": null,
            "layout": "IPY_MODEL_f94ff40aead34621a36feb2bc7bb1a3c",
            "placeholder": "​",
            "style": "IPY_MODEL_527bb200ba914de19cfa06d104707aaf",
            "value": "Downloading (…)lve/main/config.json: 100%"
          }
        },
        "2d80d4a7e7b246539e76556163c75e56": {
          "model_module": "@jupyter-widgets/controls",
          "model_name": "FloatProgressModel",
          "model_module_version": "1.5.0",
          "state": {
            "_dom_classes": [],
            "_model_module": "@jupyter-widgets/controls",
            "_model_module_version": "1.5.0",
            "_model_name": "FloatProgressModel",
            "_view_count": null,
            "_view_module": "@jupyter-widgets/controls",
            "_view_module_version": "1.5.0",
            "_view_name": "ProgressView",
            "bar_style": "success",
            "description": "",
            "description_tooltip": null,
            "layout": "IPY_MODEL_ccccfcb9196b49c9b126b80d309612a8",
            "max": 570,
            "min": 0,
            "orientation": "horizontal",
            "style": "IPY_MODEL_f99b12cf6e8d4e56a98b5c64ba9622d4",
            "value": 570
          }
        },
        "7a94f620c6e44b99a586397a363b0209": {
          "model_module": "@jupyter-widgets/controls",
          "model_name": "HTMLModel",
          "model_module_version": "1.5.0",
          "state": {
            "_dom_classes": [],
            "_model_module": "@jupyter-widgets/controls",
            "_model_module_version": "1.5.0",
            "_model_name": "HTMLModel",
            "_view_count": null,
            "_view_module": "@jupyter-widgets/controls",
            "_view_module_version": "1.5.0",
            "_view_name": "HTMLView",
            "description": "",
            "description_tooltip": null,
            "layout": "IPY_MODEL_a9999d5a47a941dd95a58d9d97bd9b94",
            "placeholder": "​",
            "style": "IPY_MODEL_2b7480ae726d496597e2041dd8f35d2e",
            "value": " 570/570 [00:00&lt;00:00, 46.2kB/s]"
          }
        },
        "3ee124aad677476fb572e7135054de6c": {
          "model_module": "@jupyter-widgets/base",
          "model_name": "LayoutModel",
          "model_module_version": "1.2.0",
          "state": {
            "_model_module": "@jupyter-widgets/base",
            "_model_module_version": "1.2.0",
            "_model_name": "LayoutModel",
            "_view_count": null,
            "_view_module": "@jupyter-widgets/base",
            "_view_module_version": "1.2.0",
            "_view_name": "LayoutView",
            "align_content": null,
            "align_items": null,
            "align_self": null,
            "border": null,
            "bottom": null,
            "display": null,
            "flex": null,
            "flex_flow": null,
            "grid_area": null,
            "grid_auto_columns": null,
            "grid_auto_flow": null,
            "grid_auto_rows": null,
            "grid_column": null,
            "grid_gap": null,
            "grid_row": null,
            "grid_template_areas": null,
            "grid_template_columns": null,
            "grid_template_rows": null,
            "height": null,
            "justify_content": null,
            "justify_items": null,
            "left": null,
            "margin": null,
            "max_height": null,
            "max_width": null,
            "min_height": null,
            "min_width": null,
            "object_fit": null,
            "object_position": null,
            "order": null,
            "overflow": null,
            "overflow_x": null,
            "overflow_y": null,
            "padding": null,
            "right": null,
            "top": null,
            "visibility": null,
            "width": null
          }
        },
        "f94ff40aead34621a36feb2bc7bb1a3c": {
          "model_module": "@jupyter-widgets/base",
          "model_name": "LayoutModel",
          "model_module_version": "1.2.0",
          "state": {
            "_model_module": "@jupyter-widgets/base",
            "_model_module_version": "1.2.0",
            "_model_name": "LayoutModel",
            "_view_count": null,
            "_view_module": "@jupyter-widgets/base",
            "_view_module_version": "1.2.0",
            "_view_name": "LayoutView",
            "align_content": null,
            "align_items": null,
            "align_self": null,
            "border": null,
            "bottom": null,
            "display": null,
            "flex": null,
            "flex_flow": null,
            "grid_area": null,
            "grid_auto_columns": null,
            "grid_auto_flow": null,
            "grid_auto_rows": null,
            "grid_column": null,
            "grid_gap": null,
            "grid_row": null,
            "grid_template_areas": null,
            "grid_template_columns": null,
            "grid_template_rows": null,
            "height": null,
            "justify_content": null,
            "justify_items": null,
            "left": null,
            "margin": null,
            "max_height": null,
            "max_width": null,
            "min_height": null,
            "min_width": null,
            "object_fit": null,
            "object_position": null,
            "order": null,
            "overflow": null,
            "overflow_x": null,
            "overflow_y": null,
            "padding": null,
            "right": null,
            "top": null,
            "visibility": null,
            "width": null
          }
        },
        "527bb200ba914de19cfa06d104707aaf": {
          "model_module": "@jupyter-widgets/controls",
          "model_name": "DescriptionStyleModel",
          "model_module_version": "1.5.0",
          "state": {
            "_model_module": "@jupyter-widgets/controls",
            "_model_module_version": "1.5.0",
            "_model_name": "DescriptionStyleModel",
            "_view_count": null,
            "_view_module": "@jupyter-widgets/base",
            "_view_module_version": "1.2.0",
            "_view_name": "StyleView",
            "description_width": ""
          }
        },
        "ccccfcb9196b49c9b126b80d309612a8": {
          "model_module": "@jupyter-widgets/base",
          "model_name": "LayoutModel",
          "model_module_version": "1.2.0",
          "state": {
            "_model_module": "@jupyter-widgets/base",
            "_model_module_version": "1.2.0",
            "_model_name": "LayoutModel",
            "_view_count": null,
            "_view_module": "@jupyter-widgets/base",
            "_view_module_version": "1.2.0",
            "_view_name": "LayoutView",
            "align_content": null,
            "align_items": null,
            "align_self": null,
            "border": null,
            "bottom": null,
            "display": null,
            "flex": null,
            "flex_flow": null,
            "grid_area": null,
            "grid_auto_columns": null,
            "grid_auto_flow": null,
            "grid_auto_rows": null,
            "grid_column": null,
            "grid_gap": null,
            "grid_row": null,
            "grid_template_areas": null,
            "grid_template_columns": null,
            "grid_template_rows": null,
            "height": null,
            "justify_content": null,
            "justify_items": null,
            "left": null,
            "margin": null,
            "max_height": null,
            "max_width": null,
            "min_height": null,
            "min_width": null,
            "object_fit": null,
            "object_position": null,
            "order": null,
            "overflow": null,
            "overflow_x": null,
            "overflow_y": null,
            "padding": null,
            "right": null,
            "top": null,
            "visibility": null,
            "width": null
          }
        },
        "f99b12cf6e8d4e56a98b5c64ba9622d4": {
          "model_module": "@jupyter-widgets/controls",
          "model_name": "ProgressStyleModel",
          "model_module_version": "1.5.0",
          "state": {
            "_model_module": "@jupyter-widgets/controls",
            "_model_module_version": "1.5.0",
            "_model_name": "ProgressStyleModel",
            "_view_count": null,
            "_view_module": "@jupyter-widgets/base",
            "_view_module_version": "1.2.0",
            "_view_name": "StyleView",
            "bar_color": null,
            "description_width": ""
          }
        },
        "a9999d5a47a941dd95a58d9d97bd9b94": {
          "model_module": "@jupyter-widgets/base",
          "model_name": "LayoutModel",
          "model_module_version": "1.2.0",
          "state": {
            "_model_module": "@jupyter-widgets/base",
            "_model_module_version": "1.2.0",
            "_model_name": "LayoutModel",
            "_view_count": null,
            "_view_module": "@jupyter-widgets/base",
            "_view_module_version": "1.2.0",
            "_view_name": "LayoutView",
            "align_content": null,
            "align_items": null,
            "align_self": null,
            "border": null,
            "bottom": null,
            "display": null,
            "flex": null,
            "flex_flow": null,
            "grid_area": null,
            "grid_auto_columns": null,
            "grid_auto_flow": null,
            "grid_auto_rows": null,
            "grid_column": null,
            "grid_gap": null,
            "grid_row": null,
            "grid_template_areas": null,
            "grid_template_columns": null,
            "grid_template_rows": null,
            "height": null,
            "justify_content": null,
            "justify_items": null,
            "left": null,
            "margin": null,
            "max_height": null,
            "max_width": null,
            "min_height": null,
            "min_width": null,
            "object_fit": null,
            "object_position": null,
            "order": null,
            "overflow": null,
            "overflow_x": null,
            "overflow_y": null,
            "padding": null,
            "right": null,
            "top": null,
            "visibility": null,
            "width": null
          }
        },
        "2b7480ae726d496597e2041dd8f35d2e": {
          "model_module": "@jupyter-widgets/controls",
          "model_name": "DescriptionStyleModel",
          "model_module_version": "1.5.0",
          "state": {
            "_model_module": "@jupyter-widgets/controls",
            "_model_module_version": "1.5.0",
            "_model_name": "DescriptionStyleModel",
            "_view_count": null,
            "_view_module": "@jupyter-widgets/base",
            "_view_module_version": "1.2.0",
            "_view_name": "StyleView",
            "description_width": ""
          }
        },
        "c3afe06d95d04983a428cd7c5d604634": {
          "model_module": "@jupyter-widgets/controls",
          "model_name": "HBoxModel",
          "model_module_version": "1.5.0",
          "state": {
            "_dom_classes": [],
            "_model_module": "@jupyter-widgets/controls",
            "_model_module_version": "1.5.0",
            "_model_name": "HBoxModel",
            "_view_count": null,
            "_view_module": "@jupyter-widgets/controls",
            "_view_module_version": "1.5.0",
            "_view_name": "HBoxView",
            "box_style": "",
            "children": [
              "IPY_MODEL_03b50b1c28e749a3852254e5c4f84c91",
              "IPY_MODEL_d03422806b1d4a1a90894d89734f536c",
              "IPY_MODEL_b294d98b38654a04bf60691376dcbdc6"
            ],
            "layout": "IPY_MODEL_b7ea16daf8154f489752840b41153f1b"
          }
        },
        "03b50b1c28e749a3852254e5c4f84c91": {
          "model_module": "@jupyter-widgets/controls",
          "model_name": "HTMLModel",
          "model_module_version": "1.5.0",
          "state": {
            "_dom_classes": [],
            "_model_module": "@jupyter-widgets/controls",
            "_model_module_version": "1.5.0",
            "_model_name": "HTMLModel",
            "_view_count": null,
            "_view_module": "@jupyter-widgets/controls",
            "_view_module_version": "1.5.0",
            "_view_name": "HTMLView",
            "description": "",
            "description_tooltip": null,
            "layout": "IPY_MODEL_f7f600b7c5844f2796822201102b734b",
            "placeholder": "​",
            "style": "IPY_MODEL_cb33a02d8c3e4346a127f33e0e902db4",
            "value": "Downloading tf_model.h5: 100%"
          }
        },
        "d03422806b1d4a1a90894d89734f536c": {
          "model_module": "@jupyter-widgets/controls",
          "model_name": "FloatProgressModel",
          "model_module_version": "1.5.0",
          "state": {
            "_dom_classes": [],
            "_model_module": "@jupyter-widgets/controls",
            "_model_module_version": "1.5.0",
            "_model_name": "FloatProgressModel",
            "_view_count": null,
            "_view_module": "@jupyter-widgets/controls",
            "_view_module_version": "1.5.0",
            "_view_name": "ProgressView",
            "bar_style": "success",
            "description": "",
            "description_tooltip": null,
            "layout": "IPY_MODEL_0df769624c9a4c51817350c0a723b3d1",
            "max": 536063208,
            "min": 0,
            "orientation": "horizontal",
            "style": "IPY_MODEL_063a529b2506441abc2aa4dff5db76a8",
            "value": 536063208
          }
        },
        "b294d98b38654a04bf60691376dcbdc6": {
          "model_module": "@jupyter-widgets/controls",
          "model_name": "HTMLModel",
          "model_module_version": "1.5.0",
          "state": {
            "_dom_classes": [],
            "_model_module": "@jupyter-widgets/controls",
            "_model_module_version": "1.5.0",
            "_model_name": "HTMLModel",
            "_view_count": null,
            "_view_module": "@jupyter-widgets/controls",
            "_view_module_version": "1.5.0",
            "_view_name": "HTMLView",
            "description": "",
            "description_tooltip": null,
            "layout": "IPY_MODEL_7f3d7ce4729d43fa98f56301b33320ca",
            "placeholder": "​",
            "style": "IPY_MODEL_709d1a7afdca41f0afcde36fecf6edcd",
            "value": " 536M/536M [00:01&lt;00:00, 261MB/s]"
          }
        },
        "b7ea16daf8154f489752840b41153f1b": {
          "model_module": "@jupyter-widgets/base",
          "model_name": "LayoutModel",
          "model_module_version": "1.2.0",
          "state": {
            "_model_module": "@jupyter-widgets/base",
            "_model_module_version": "1.2.0",
            "_model_name": "LayoutModel",
            "_view_count": null,
            "_view_module": "@jupyter-widgets/base",
            "_view_module_version": "1.2.0",
            "_view_name": "LayoutView",
            "align_content": null,
            "align_items": null,
            "align_self": null,
            "border": null,
            "bottom": null,
            "display": null,
            "flex": null,
            "flex_flow": null,
            "grid_area": null,
            "grid_auto_columns": null,
            "grid_auto_flow": null,
            "grid_auto_rows": null,
            "grid_column": null,
            "grid_gap": null,
            "grid_row": null,
            "grid_template_areas": null,
            "grid_template_columns": null,
            "grid_template_rows": null,
            "height": null,
            "justify_content": null,
            "justify_items": null,
            "left": null,
            "margin": null,
            "max_height": null,
            "max_width": null,
            "min_height": null,
            "min_width": null,
            "object_fit": null,
            "object_position": null,
            "order": null,
            "overflow": null,
            "overflow_x": null,
            "overflow_y": null,
            "padding": null,
            "right": null,
            "top": null,
            "visibility": null,
            "width": null
          }
        },
        "f7f600b7c5844f2796822201102b734b": {
          "model_module": "@jupyter-widgets/base",
          "model_name": "LayoutModel",
          "model_module_version": "1.2.0",
          "state": {
            "_model_module": "@jupyter-widgets/base",
            "_model_module_version": "1.2.0",
            "_model_name": "LayoutModel",
            "_view_count": null,
            "_view_module": "@jupyter-widgets/base",
            "_view_module_version": "1.2.0",
            "_view_name": "LayoutView",
            "align_content": null,
            "align_items": null,
            "align_self": null,
            "border": null,
            "bottom": null,
            "display": null,
            "flex": null,
            "flex_flow": null,
            "grid_area": null,
            "grid_auto_columns": null,
            "grid_auto_flow": null,
            "grid_auto_rows": null,
            "grid_column": null,
            "grid_gap": null,
            "grid_row": null,
            "grid_template_areas": null,
            "grid_template_columns": null,
            "grid_template_rows": null,
            "height": null,
            "justify_content": null,
            "justify_items": null,
            "left": null,
            "margin": null,
            "max_height": null,
            "max_width": null,
            "min_height": null,
            "min_width": null,
            "object_fit": null,
            "object_position": null,
            "order": null,
            "overflow": null,
            "overflow_x": null,
            "overflow_y": null,
            "padding": null,
            "right": null,
            "top": null,
            "visibility": null,
            "width": null
          }
        },
        "cb33a02d8c3e4346a127f33e0e902db4": {
          "model_module": "@jupyter-widgets/controls",
          "model_name": "DescriptionStyleModel",
          "model_module_version": "1.5.0",
          "state": {
            "_model_module": "@jupyter-widgets/controls",
            "_model_module_version": "1.5.0",
            "_model_name": "DescriptionStyleModel",
            "_view_count": null,
            "_view_module": "@jupyter-widgets/base",
            "_view_module_version": "1.2.0",
            "_view_name": "StyleView",
            "description_width": ""
          }
        },
        "0df769624c9a4c51817350c0a723b3d1": {
          "model_module": "@jupyter-widgets/base",
          "model_name": "LayoutModel",
          "model_module_version": "1.2.0",
          "state": {
            "_model_module": "@jupyter-widgets/base",
            "_model_module_version": "1.2.0",
            "_model_name": "LayoutModel",
            "_view_count": null,
            "_view_module": "@jupyter-widgets/base",
            "_view_module_version": "1.2.0",
            "_view_name": "LayoutView",
            "align_content": null,
            "align_items": null,
            "align_self": null,
            "border": null,
            "bottom": null,
            "display": null,
            "flex": null,
            "flex_flow": null,
            "grid_area": null,
            "grid_auto_columns": null,
            "grid_auto_flow": null,
            "grid_auto_rows": null,
            "grid_column": null,
            "grid_gap": null,
            "grid_row": null,
            "grid_template_areas": null,
            "grid_template_columns": null,
            "grid_template_rows": null,
            "height": null,
            "justify_content": null,
            "justify_items": null,
            "left": null,
            "margin": null,
            "max_height": null,
            "max_width": null,
            "min_height": null,
            "min_width": null,
            "object_fit": null,
            "object_position": null,
            "order": null,
            "overflow": null,
            "overflow_x": null,
            "overflow_y": null,
            "padding": null,
            "right": null,
            "top": null,
            "visibility": null,
            "width": null
          }
        },
        "063a529b2506441abc2aa4dff5db76a8": {
          "model_module": "@jupyter-widgets/controls",
          "model_name": "ProgressStyleModel",
          "model_module_version": "1.5.0",
          "state": {
            "_model_module": "@jupyter-widgets/controls",
            "_model_module_version": "1.5.0",
            "_model_name": "ProgressStyleModel",
            "_view_count": null,
            "_view_module": "@jupyter-widgets/base",
            "_view_module_version": "1.2.0",
            "_view_name": "StyleView",
            "bar_color": null,
            "description_width": ""
          }
        },
        "7f3d7ce4729d43fa98f56301b33320ca": {
          "model_module": "@jupyter-widgets/base",
          "model_name": "LayoutModel",
          "model_module_version": "1.2.0",
          "state": {
            "_model_module": "@jupyter-widgets/base",
            "_model_module_version": "1.2.0",
            "_model_name": "LayoutModel",
            "_view_count": null,
            "_view_module": "@jupyter-widgets/base",
            "_view_module_version": "1.2.0",
            "_view_name": "LayoutView",
            "align_content": null,
            "align_items": null,
            "align_self": null,
            "border": null,
            "bottom": null,
            "display": null,
            "flex": null,
            "flex_flow": null,
            "grid_area": null,
            "grid_auto_columns": null,
            "grid_auto_flow": null,
            "grid_auto_rows": null,
            "grid_column": null,
            "grid_gap": null,
            "grid_row": null,
            "grid_template_areas": null,
            "grid_template_columns": null,
            "grid_template_rows": null,
            "height": null,
            "justify_content": null,
            "justify_items": null,
            "left": null,
            "margin": null,
            "max_height": null,
            "max_width": null,
            "min_height": null,
            "min_width": null,
            "object_fit": null,
            "object_position": null,
            "order": null,
            "overflow": null,
            "overflow_x": null,
            "overflow_y": null,
            "padding": null,
            "right": null,
            "top": null,
            "visibility": null,
            "width": null
          }
        },
        "709d1a7afdca41f0afcde36fecf6edcd": {
          "model_module": "@jupyter-widgets/controls",
          "model_name": "DescriptionStyleModel",
          "model_module_version": "1.5.0",
          "state": {
            "_model_module": "@jupyter-widgets/controls",
            "_model_module_version": "1.5.0",
            "_model_name": "DescriptionStyleModel",
            "_view_count": null,
            "_view_module": "@jupyter-widgets/base",
            "_view_module_version": "1.2.0",
            "_view_name": "StyleView",
            "description_width": ""
          }
        }
      }
    }
  },
  "nbformat": 4,
  "nbformat_minor": 0
}